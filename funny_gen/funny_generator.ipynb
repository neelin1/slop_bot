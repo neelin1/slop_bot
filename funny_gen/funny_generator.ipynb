{
 "cells": [
  {
   "cell_type": "code",
   "execution_count": 1,
   "id": "524fe07f",
   "metadata": {},
   "outputs": [
    {
     "name": "stderr",
     "output_type": "stream",
     "text": [
      "/Users/samuelgoldberg/anaconda3/envs/slopbot-env/lib/python3.11/site-packages/tqdm/auto.py:21: TqdmWarning: IProgress not found. Please update jupyter and ipywidgets. See https://ipywidgets.readthedocs.io/en/stable/user_install.html\n",
      "  from .autonotebook import tqdm as notebook_tqdm\n"
     ]
    }
   ],
   "source": [
    "import sys\n",
    "import os\n",
    "\n",
    "\n",
    "# Set working directory to where your project (funny_gen, slop_gen, requirements.txt) actually lives\n",
    "project_root = \"/Users/samuelgoldberg/slop_bot/slop_bot\"\n",
    "os.chdir(project_root)\n",
    "sys.path.append(project_root)  \n",
    "\n",
    "# Now imports will work\n",
    "from funny_gen.story import generate_funny_story as generate_story\n",
    "from funny_gen.images import generate_images\n",
    "from funny_gen.audio import generate_audio\n",
    "from slop_gen.generators.video import create_video\n",
    "from slop_gen.utils.api_utils import openai_chat_api\n"
   ]
  },
  {
   "cell_type": "code",
   "execution_count": 2,
   "id": "46f03c4a",
   "metadata": {},
   "outputs": [
    {
     "name": "stdout",
     "output_type": "stream",
     "text": [
      "📝 Story:\n",
      "1. Why did the chicken cross the road?\n",
      "2. Because it saw a job interview on the other side… with free snacks.\n",
      "3. But when it got there, the snacks were just photos of snacks.\n",
      "4. The chicken never trusted recruiters again.\n",
      "5. It went home. Started a YouTube channel. Became famous.\n",
      "6. Now the road crosses for *it*.\n",
      "🖼️ Images saved to: ['assets/images/image_funny_1.png', 'assets/images/image_funny_2.png', 'assets/images/image_funny_3.png', 'assets/images/image_funny_4.png', 'assets/images/image_funny_5.png', 'assets/images/image_funny_6.png']\n",
      "🔊 Audio files saved to: ['assets/audio/audio_funny_1.mp3', 'assets/audio/audio_funny_2.mp3', 'assets/audio/audio_funny_3.mp3', 'assets/audio/audio_funny_4.mp3', 'assets/audio/audio_funny_5.mp3', 'assets/audio/audio_funny_6.mp3']\n",
      "🎞️ Segment 1: Applying style → pan_left\n",
      "🎞️ Segment 2: Applying style → pan_right\n",
      "🎞️ Segment 3: Applying style → pan_left\n",
      "🎞️ Segment 4: Applying style → zoom_out\n",
      "🎞️ Segment 5: Applying style → zoom_out\n",
      "🎞️ Segment 6: Applying style → pan_left\n",
      "Moviepy - Building video assets/output/final_funny_clip.mp4.\n",
      "MoviePy - Writing audio in final_funny_clipTEMP_MPY_wvf_snd.mp3\n"
     ]
    },
    {
     "name": "stderr",
     "output_type": "stream",
     "text": [
      "                                                                    \r"
     ]
    },
    {
     "name": "stdout",
     "output_type": "stream",
     "text": [
      "MoviePy - Done.\n",
      "Moviepy - Writing video assets/output/final_funny_clip.mp4\n",
      "\n"
     ]
    },
    {
     "name": "stderr",
     "output_type": "stream",
     "text": [
      "                                                              \r"
     ]
    },
    {
     "name": "stdout",
     "output_type": "stream",
     "text": [
      "Moviepy - Done !\n",
      "Moviepy - video ready assets/output/final_funny_clip.mp4\n",
      "✅ Video written to assets/output/final_funny_clip.mp4\n",
      "🎬 Funny video generated!\n"
     ]
    }
   ],
   "source": [
    "# Set to True for custom input story! Otherwise, it will be automated.\n",
    "use_manual_story = True\n",
    "\n",
    "if use_manual_story:\n",
    "    story = \"\"\"\n",
    "    Why did the chicken cross the road?\n",
    "\n",
    "    Because it saw a job interview on the other side… with free snacks.\n",
    "\n",
    "    But when it got there, the snacks were just photos of snacks.\n",
    "\n",
    "    The chicken never trusted recruiters again.\n",
    "\n",
    "    It went home. Started a YouTube channel. Became famous.\n",
    "\n",
    "    Now the road crosses for *it*.\n",
    "    \"\"\"\n",
    "    story_lines = [line.strip() for line in story.strip().split(\"\\n\") if line.strip()]\n",
    "else:\n",
    "    story_lines = generate_story()\n",
    "\n",
    "print(\"📝 Story:\")\n",
    "for i, line in enumerate(story_lines):\n",
    "    print(f\"{i+1}. {line}\")\n",
    "\n",
    "output_dir = \"assets/text\"\n",
    "output_path = os.path.join(output_dir, \"story_funny.txt\")\n",
    "os.makedirs(output_dir, exist_ok=True)\n",
    "with open(output_path, \"w\", encoding=\"utf-8\") as f:\n",
    "    for i, line in enumerate(story_lines, start=1):\n",
    "        f.write(f\"{i}. {line}\\n\")\n",
    "\n",
    "image_paths = generate_images(story_lines, output_dir=\"assets/images\", prefix=\"image_funny\")\n",
    "print(\"🖼️ Images saved to:\", image_paths)\n",
    "\n",
    "audio_paths = generate_audio(story_lines, output_dir=\"assets/audio\", speed=0.75, prefix=\"audio_funny\")\n",
    "print(\"🔊 Audio files saved to:\", audio_paths)\n",
    "\n",
    "create_video(\n",
    "    image_paths=image_paths,\n",
    "    audio_paths=audio_paths,\n",
    "    output_path=\"assets/output/final_funny_clip.mp4\",\n",
    "    story_lines=story_lines,\n",
    "    music_path=\"assets/music/music.mp3\"\n",
    ")\n",
    "print(\"🎬 Funny video generated!\")"
   ]
  }
 ],
 "metadata": {
  "kernelspec": {
   "display_name": "slopbot-env",
   "language": "python",
   "name": "python3"
  },
  "language_info": {
   "codemirror_mode": {
    "name": "ipython",
    "version": 3
   },
   "file_extension": ".py",
   "mimetype": "text/x-python",
   "name": "python",
   "nbconvert_exporter": "python",
   "pygments_lexer": "ipython3",
   "version": "3.11.11"
  }
 },
 "nbformat": 4,
 "nbformat_minor": 5
}
