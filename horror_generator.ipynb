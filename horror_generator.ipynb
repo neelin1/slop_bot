{
 "cells": [
  {
   "cell_type": "code",
   "execution_count": 1,
   "metadata": {},
   "outputs": [
    {
     "name": "stderr",
     "output_type": "stream",
     "text": [
      "/Users/milesbramwit/info_final_project/slop_bot/venv/lib/python3.11/site-packages/tqdm/auto.py:21: TqdmWarning: IProgress not found. Please update jupyter and ipywidgets. See https://ipywidgets.readthedocs.io/en/stable/user_install.html\n",
      "  from .autonotebook import tqdm as notebook_tqdm\n"
     ]
    },
    {
     "name": "stdout",
     "output_type": "stream",
     "text": [
      "📝 Story:\n",
      "1. The fingernails scraping against the basement door grew louder, accompanied by a wet, gurgling sound that seemed to bubble up from beneath the floorboards\n",
      "2. In the mirror, a child's handprint appeared in the condensation, despite the fact that the bathroom had been ice-cold for hours\n",
      "3. The thing wearing Mother's face smiled too widely as it asked to be let in, its teeth gleaming like needles in the darkness\n"
     ]
    }
   ],
   "source": [
    "from slop_gen.generators.story import generate_story\n",
    "story_lines = generate_story()\n",
    "print(\"📝 Story:\")\n",
    "for i, line in enumerate(story_lines):\n",
    "    print(f\"{i+1}. {line}\")"
   ]
  },
  {
   "cell_type": "code",
   "execution_count": 8,
   "metadata": {},
   "outputs": [
    {
     "name": "stdout",
     "output_type": "stream",
     "text": [
      "❌ Failed to generate image for line 1: module 'google.generativeai' has no attribute 'Client'\n",
      "❌ Failed to generate image for line 2: module 'google.generativeai' has no attribute 'Client'\n",
      "❌ Failed to generate image for line 3: module 'google.generativeai' has no attribute 'Client'\n",
      "🖼️ Images saved to: [None, None, None]\n"
     ]
    }
   ],
   "source": [
    "from slop_gen.generators.images import generate_images\n",
    "image_paths = generate_images(story_lines)\n",
    "print(\"🖼️ Images saved to:\", image_paths)"
   ]
  },
  {
   "cell_type": "code",
   "execution_count": 9,
   "metadata": {},
   "outputs": [
    {
     "name": "stdout",
     "output_type": "stream",
     "text": [
      "⚠️ Failed audio gen for line 1: {\"detail\":{\"status\":\"invalid_api_key\",\"message\":\"Invalid API key\"}}\n",
      "⚠️ Failed audio gen for line 2: {\"detail\":{\"status\":\"invalid_api_key\",\"message\":\"Invalid API key\"}}\n",
      "⚠️ Failed audio gen for line 3: {\"detail\":{\"status\":\"invalid_api_key\",\"message\":\"Invalid API key\"}}\n",
      "🔊 Audio files saved to: [None, None, None]\n"
     ]
    }
   ],
   "source": [
    "from slop_gen.generators.audio import generate_audio\n",
    "audio_paths = generate_audio(story_lines)\n",
    "print(\"🔊 Audio files saved to:\", audio_paths)"
   ]
  },
  {
   "cell_type": "code",
   "execution_count": 13,
   "metadata": {},
   "outputs": [
    {
     "name": "stdout",
     "output_type": "stream",
     "text": [
      "⚠️ Skipping frame 1 due to missing assets.\n",
      "⚠️ Skipping frame 2 due to missing assets.\n",
      "⚠️ Skipping frame 3 due to missing assets.\n",
      "❌ No clips to compile into video.\n",
      "✅ Video generated at: assets/output/final_horror_clip.mp4\n"
     ]
    }
   ],
   "source": [
    "from slop_gen.generators.video import create_video\n",
    "output_path = \"assets/output/final_horror_clip.mp4\"\n",
    "create_video(image_paths, audio_paths, output_path=output_path, story_lines=story_lines)\n",
    "print(\"✅ Video generated at:\", output_path)"
   ]
  }
 ],
 "metadata": {
  "kernelspec": {
   "display_name": "venv",
   "language": "python",
   "name": "python3"
  },
  "language_info": {
   "codemirror_mode": {
    "name": "ipython",
    "version": 3
   },
   "file_extension": ".py",
   "mimetype": "text/x-python",
   "name": "python",
   "nbconvert_exporter": "python",
   "pygments_lexer": "ipython3",
   "version": "3.11.6"
  }
 },
 "nbformat": 4,
 "nbformat_minor": 2
}
