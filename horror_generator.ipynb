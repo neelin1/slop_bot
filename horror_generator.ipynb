{
 "cells": [
  {
   "cell_type": "code",
   "execution_count": 1,
   "metadata": {},
   "outputs": [
    {
     "name": "stderr",
     "output_type": "stream",
     "text": [
      "/Users/milesbramwit/info_final_project/slop_bot/venv/lib/python3.11/site-packages/tqdm/auto.py:21: TqdmWarning: IProgress not found. Please update jupyter and ipywidgets. See https://ipywidgets.readthedocs.io/en/stable/user_install.html\n",
      "  from .autonotebook import tqdm as notebook_tqdm\n"
     ]
    },
    {
     "name": "stdout",
     "output_type": "stream",
     "text": [
      "📝 Story:\n",
      "1. The fingernails scraping against the basement door grew louder, accompanied by a wet, gurgling sound that seemed to bubble up from beneath the floorboards\n",
      "2. In the mirror, a child's handprint appeared in the condensation, despite the fact that the bathroom had been ice-cold for hours\n",
      "3. The thing wearing Mother's face smiled too widely as it asked to be let in, its teeth gleaming like needles in the darkness\n"
     ]
    }
   ],
   "source": [
    "from slop_gen.generators.story import generate_story\n",
    "story_lines = generate_story()\n",
    "print(\"📝 Story:\")\n",
    "for i, line in enumerate(story_lines):\n",
    "    print(f\"{i+1}. {line}\")"
   ]
  },
  {
   "cell_type": "code",
   "execution_count": null,
   "metadata": {},
   "outputs": [],
   "source": [
    "story_lines = [\"The fingernails scraping against the basement door grew louder, accompanied by a wet, gurgling sound that seemed to bubble up from beneath the floorboards\"]"
   ]
  },
  {
   "cell_type": "code",
   "execution_count": 1,
   "metadata": {},
   "outputs": [
    {
     "name": "stderr",
     "output_type": "stream",
     "text": [
      "/Users/milesbramwit/info_final_project/slop_bot/venv/lib/python3.11/site-packages/tqdm/auto.py:21: TqdmWarning: IProgress not found. Please update jupyter and ipywidgets. See https://ipywidgets.readthedocs.io/en/stable/user_install.html\n",
      "  from .autonotebook import tqdm as notebook_tqdm\n"
     ]
    },
    {
     "ename": "NameError",
     "evalue": "name 'story_lines' is not defined",
     "output_type": "error",
     "traceback": [
      "\u001b[31m---------------------------------------------------------------------------\u001b[39m",
      "\u001b[31mNameError\u001b[39m                                 Traceback (most recent call last)",
      "\u001b[36mCell\u001b[39m\u001b[36m \u001b[39m\u001b[32mIn[1]\u001b[39m\u001b[32m, line 2\u001b[39m\n\u001b[32m      1\u001b[39m \u001b[38;5;28;01mfrom\u001b[39;00m\u001b[38;5;250m \u001b[39m\u001b[34;01mslop_gen\u001b[39;00m\u001b[34;01m.\u001b[39;00m\u001b[34;01mgenerators\u001b[39;00m\u001b[34;01m.\u001b[39;00m\u001b[34;01mimages\u001b[39;00m\u001b[38;5;250m \u001b[39m\u001b[38;5;28;01mimport\u001b[39;00m generate_images\n\u001b[32m----> \u001b[39m\u001b[32m2\u001b[39m image_paths = generate_images(\u001b[43mstory_lines\u001b[49m)\n\u001b[32m      3\u001b[39m \u001b[38;5;28mprint\u001b[39m(\u001b[33m\"\u001b[39m\u001b[33m🖼️ Images saved to:\u001b[39m\u001b[33m\"\u001b[39m, image_paths)\n",
      "\u001b[31mNameError\u001b[39m: name 'story_lines' is not defined"
     ]
    }
   ],
   "source": [
    "from slop_gen.generators.images import generate_images\n",
    "image_paths = generate_images(story_lines)\n",
    "print(\"🖼️ Images saved to:\", image_paths)"
   ]
  },
  {
   "cell_type": "code",
   "execution_count": 9,
   "metadata": {},
   "outputs": [
    {
     "name": "stdout",
     "output_type": "stream",
     "text": [
      "⚠️ Failed audio gen for line 1: {\"detail\":{\"status\":\"invalid_api_key\",\"message\":\"Invalid API key\"}}\n",
      "⚠️ Failed audio gen for line 2: {\"detail\":{\"status\":\"invalid_api_key\",\"message\":\"Invalid API key\"}}\n",
      "⚠️ Failed audio gen for line 3: {\"detail\":{\"status\":\"invalid_api_key\",\"message\":\"Invalid API key\"}}\n",
      "🔊 Audio files saved to: [None, None, None]\n"
     ]
    }
   ],
   "source": [
    "from slop_gen.generators.audio import generate_audio\n",
    "audio_paths = generate_audio(story_lines)\n",
    "print(\"🔊 Audio files saved to:\", audio_paths)"
   ]
  },
  {
   "cell_type": "code",
   "execution_count": 13,
   "metadata": {},
   "outputs": [
    {
     "name": "stdout",
     "output_type": "stream",
     "text": [
      "⚠️ Skipping frame 1 due to missing assets.\n",
      "⚠️ Skipping frame 2 due to missing assets.\n",
      "⚠️ Skipping frame 3 due to missing assets.\n",
      "❌ No clips to compile into video.\n",
      "✅ Video generated at: assets/output/final_horror_clip.mp4\n"
     ]
    }
   ],
   "source": [
    "from slop_gen.generators.video import create_video\n",
    "output_path = \"assets/output/final_horror_clip.mp4\"\n",
    "create_video(image_paths, audio_paths, output_path=output_path, story_lines=story_lines)\n",
    "print(\"✅ Video generated at:\", output_path)"
   ]
  }
 ],
 "metadata": {
  "kernelspec": {
   "display_name": "venv",
   "language": "python",
   "name": "python3"
  },
  "language_info": {
   "codemirror_mode": {
    "name": "ipython",
    "version": 3
   },
   "file_extension": ".py",
   "mimetype": "text/x-python",
   "name": "python",
   "nbconvert_exporter": "python",
   "pygments_lexer": "ipython3",
   "version": "3.11.6"
  }
 },
 "nbformat": 4,
 "nbformat_minor": 2
}
