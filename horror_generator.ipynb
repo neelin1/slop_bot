{
 "cells": [
  {
   "cell_type": "code",
   "execution_count": 3,
   "metadata": {},
   "outputs": [
    {
     "name": "stdout",
     "output_type": "stream",
     "text": [
      "❌ Error generating story: \n",
      "\n",
      "You tried to access openai.ChatCompletion, but this is no longer supported in openai>=1.0.0 - see the README at https://github.com/openai/openai-python for the API.\n",
      "\n",
      "You can run `openai migrate` to automatically upgrade your codebase to use the 1.0.0 interface. \n",
      "\n",
      "Alternatively, you can pin your installation to the old version, e.g. `pip install openai==0.28`\n",
      "\n",
      "A detailed migration guide is available here: https://github.com/openai/openai-python/discussions/742\n",
      "\n",
      "📝 Story:\n",
      "1. Failed to generate story line 1\n",
      "2. Failed to generate story line 2\n",
      "3. Failed to generate story line 3\n"
     ]
    }
   ],
   "source": [
    "from slop_gen.generators.story import generate_story\n",
    "story_lines = generate_story()\n",
    "print(\"📝 Story:\")\n",
    "for i, line in enumerate(story_lines):\n",
    "    print(f\"{i+1}. {line}\")"
   ]
  },
  {
   "cell_type": "code",
   "execution_count": null,
   "metadata": {},
   "outputs": [],
   "source": [
    "from slop_gen.generators.images import generate_images\n",
    "image_paths = generate_images(story_lines)\n",
    "print(\"🖼️ Images saved to:\", image_paths)"
   ]
  },
  {
   "cell_type": "code",
   "execution_count": null,
   "metadata": {},
   "outputs": [],
   "source": [
    "from slop_gen.generators.audio import generate_audio\n",
    "audio_paths = generate_audio(story_lines)\n",
    "print(\"🔊 Audio files saved to:\", audio_paths)"
   ]
  },
  {
   "cell_type": "code",
   "execution_count": null,
   "metadata": {},
   "outputs": [],
   "source": [
    "from slop_gen.generators.video import create_video\n",
    "output_path = \"assets/output/final_horror_clip.mp4\"\n",
    "create_video(image_paths, audio_paths, output_path=output_path, story_lines=story_lines)\n",
    "print(\"✅ Video generated at:\", output_path)"
   ]
  }
 ],
 "metadata": {
  "kernelspec": {
   "display_name": "venv",
   "language": "python",
   "name": "python3"
  },
  "language_info": {
   "codemirror_mode": {
    "name": "ipython",
    "version": 3
   },
   "file_extension": ".py",
   "mimetype": "text/x-python",
   "name": "python",
   "nbconvert_exporter": "python",
   "pygments_lexer": "ipython3",
   "version": "3.11.6"
  }
 },
 "nbformat": 4,
 "nbformat_minor": 2
}
