{
 "cells": [
  {
   "cell_type": "code",
   "execution_count": 1,
   "metadata": {},
   "outputs": [
    {
     "name": "stderr",
     "output_type": "stream",
     "text": [
      "/Users/milesbramwit/info_final_project/slop_bot/venv/lib/python3.11/site-packages/tqdm/auto.py:21: TqdmWarning: IProgress not found. Please update jupyter and ipywidgets. See https://ipywidgets.readthedocs.io/en/stable/user_install.html\n",
      "  from .autonotebook import tqdm as notebook_tqdm\n"
     ]
    },
    {
     "name": "stdout",
     "output_type": "stream",
     "text": [
      "📝 Story:\n",
      "1. The fingernails scraping against the basement door grew louder, accompanied by a wet, gurgling sound that seemed to bubble up from beneath the floorboards\n",
      "2. In the mirror, a child's handprint appeared in the condensation, despite the fact that the bathroom had been ice-cold for hours\n",
      "3. The thing wearing Mother's face smiled too widely as it asked to be let in, its teeth gleaming like needles in the darkness\n"
     ]
    }
   ],
   "source": [
    "from slop_gen.generators.story import generate_story\n",
    "story_lines = generate_story()\n",
    "print(\"📝 Story:\")\n",
    "for i, line in enumerate(story_lines):\n",
    "    print(f\"{i+1}. {line}\")"
   ]
  },
  {
   "cell_type": "code",
   "execution_count": 1,
   "metadata": {},
   "outputs": [
    {
     "name": "stderr",
     "output_type": "stream",
     "text": [
      "/Users/milesbramwit/info_final_project/slop_bot/venv/lib/python3.11/site-packages/tqdm/auto.py:21: TqdmWarning: IProgress not found. Please update jupyter and ipywidgets. See https://ipywidgets.readthedocs.io/en/stable/user_install.html\n",
      "  from .autonotebook import tqdm as notebook_tqdm\n"
     ]
    },
    {
     "name": "stdout",
     "output_type": "stream",
     "text": [
      "🖼️ Images saved to: ['assets/images/image_1.png']\n"
     ]
    }
   ],
   "source": [
    "from slop_gen.generators.images import generate_images\n",
    "story_lines = [\"The fingernails scraping against the basement door grew louder, accompanied by a wet, gurgling sound that seemed to bubble up from beneath the floorboards\"]\n",
    "image_paths = generate_images(story_lines)\n",
    "print(\"🖼️ Images saved to:\", image_paths)"
   ]
  },
  {
   "cell_type": "code",
   "execution_count": 1,
   "metadata": {},
   "outputs": [
    {
     "name": "stderr",
     "output_type": "stream",
     "text": [
      "/Users/milesbramwit/info_final_project/slop_bot/venv/lib/python3.11/site-packages/tqdm/auto.py:21: TqdmWarning: IProgress not found. Please update jupyter and ipywidgets. See https://ipywidgets.readthedocs.io/en/stable/user_install.html\n",
      "  from .autonotebook import tqdm as notebook_tqdm\n"
     ]
    },
    {
     "name": "stdout",
     "output_type": "stream",
     "text": [
      "🔊 Audio files saved to: ['assets/audio/audio_1.wav']\n"
     ]
    }
   ],
   "source": [
    "from slop_gen.generators.audio import generate_audio\n",
    "\n",
    "story_lines = [\n",
    "    \"The fingernails scraping against the basement door grew louder, accompanied by a wet, gurgling sound that seemed to bubble up from beneath the floorboards\"\n",
    "]\n",
    "\n",
    "audio_paths = generate_audio(story_lines)\n",
    "print(\"🔊 Audio files saved to:\", audio_paths)\n"
   ]
  },
  {
   "cell_type": "code",
   "execution_count": 1,
   "metadata": {},
   "outputs": [
    {
     "ename": "ModuleNotFoundError",
     "evalue": "No module named 'moviepy.editor'",
     "output_type": "error",
     "traceback": [
      "\u001b[31m---------------------------------------------------------------------------\u001b[39m",
      "\u001b[31mModuleNotFoundError\u001b[39m                       Traceback (most recent call last)",
      "\u001b[36mCell\u001b[39m\u001b[36m \u001b[39m\u001b[32mIn[1]\u001b[39m\u001b[32m, line 1\u001b[39m\n\u001b[32m----> \u001b[39m\u001b[32m1\u001b[39m \u001b[38;5;28;01mfrom\u001b[39;00m\u001b[38;5;250m \u001b[39m\u001b[34;01mslop_gen\u001b[39;00m\u001b[34;01m.\u001b[39;00m\u001b[34;01mgenerators\u001b[39;00m\u001b[34;01m.\u001b[39;00m\u001b[34;01mvideo\u001b[39;00m\u001b[38;5;250m \u001b[39m\u001b[38;5;28;01mimport\u001b[39;00m create_video\n\u001b[32m      4\u001b[39m image_paths = [\u001b[33m\"\u001b[39m\u001b[33massets/images/image_1.png\u001b[39m\u001b[33m\"\u001b[39m]\n\u001b[32m      5\u001b[39m audio_paths = [\u001b[33m\"\u001b[39m\u001b[33massets/audio/audio_1.wav\u001b[39m\u001b[33m\"\u001b[39m]\n",
      "\u001b[36mFile \u001b[39m\u001b[32m~/info_final_project/slop_bot/slop_gen/generators/video.py:2\u001b[39m\n\u001b[32m      1\u001b[39m \u001b[38;5;28;01mimport\u001b[39;00m\u001b[38;5;250m \u001b[39m\u001b[34;01mos\u001b[39;00m\n\u001b[32m----> \u001b[39m\u001b[32m2\u001b[39m \u001b[38;5;28;01mfrom\u001b[39;00m\u001b[38;5;250m \u001b[39m\u001b[34;01mmoviepy\u001b[39;00m\u001b[34;01m.\u001b[39;00m\u001b[34;01meditor\u001b[39;00m\u001b[38;5;250m \u001b[39m\u001b[38;5;28;01mimport\u001b[39;00m (\n\u001b[32m      3\u001b[39m     ImageClip,\n\u001b[32m      4\u001b[39m     AudioFileClip,\n\u001b[32m      5\u001b[39m     TextClip,\n\u001b[32m      6\u001b[39m     CompositeVideoClip,\n\u001b[32m      7\u001b[39m     concatenate_videoclips,\n\u001b[32m      8\u001b[39m )\n\u001b[32m     10\u001b[39m \u001b[38;5;28;01mdef\u001b[39;00m\u001b[38;5;250m \u001b[39m\u001b[34mcreate_video\u001b[39m(\n\u001b[32m     11\u001b[39m     image_paths: \u001b[38;5;28mlist\u001b[39m[\u001b[38;5;28mstr\u001b[39m],\n\u001b[32m     12\u001b[39m     audio_paths: \u001b[38;5;28mlist\u001b[39m[\u001b[38;5;28mstr\u001b[39m],\n\u001b[32m   (...)\u001b[39m\u001b[32m     16\u001b[39m     height: \u001b[38;5;28mint\u001b[39m = \u001b[32m720\u001b[39m\n\u001b[32m     17\u001b[39m ) -> \u001b[38;5;28;01mNone\u001b[39;00m:\n\u001b[32m     18\u001b[39m     clips = []\n",
      "\u001b[31mModuleNotFoundError\u001b[39m: No module named 'moviepy.editor'"
     ]
    }
   ],
   "source": [
    "from slop_gen.generators.video import create_video\n",
    "\n",
    "\n",
    "image_paths = [\"assets/images/image_1.png\"]\n",
    "audio_paths = [\"assets/audio/audio_1.wav\"]\n",
    "story_lines = [ \"The fingernails scraping against the basement door grew louder, accompanied by a wet, gurgling sound that seemed to bubble up from beneath the floorboards\"]\n",
    "\n",
    "create_video(\n",
    "    image_paths=image_paths,\n",
    "    audio_paths=audio_paths,\n",
    "    output_path=\"assets/output/final_horror_clip.mp4\",\n",
    "    story_lines=story_lines\n",
    ")\n",
    "print(\"🎬 Done!\")\n"
   ]
  }
 ],
 "metadata": {
  "kernelspec": {
   "display_name": "venv",
   "language": "python",
   "name": "python3"
  },
  "language_info": {
   "codemirror_mode": {
    "name": "ipython",
    "version": 3
   },
   "file_extension": ".py",
   "mimetype": "text/x-python",
   "name": "python",
   "nbconvert_exporter": "python",
   "pygments_lexer": "ipython3",
   "version": "3.11.6"
  }
 },
 "nbformat": 4,
 "nbformat_minor": 2
}
