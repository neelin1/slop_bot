{
 "cells": [
  {
   "cell_type": "code",
   "execution_count": null,
   "metadata": {},
   "outputs": [],
   "source": [
    "from slop_gen.generators.horror_gen.story import generate_story\n",
    "story_lines = generate_story()\n",
    "print(\"📝 Story:\")\n",
    "for i, line in enumerate(story_lines):\n",
    "    print(f\"{i+1}. {line}\")"
   ]
  },
  {
   "cell_type": "code",
   "execution_count": 3,
   "metadata": {},
   "outputs": [
    {
     "name": "stdout",
     "output_type": "stream",
     "text": [
      "📝 Story:\n",
      "1. The doll sat motionless on my daughter's bed\n",
      "2. Its head slowly turned toward me\n",
      "3. Blood dripped from its porcelain smile\n",
      "4. I couldn't move as it stood up\n",
      "5. Its tiny footsteps came closer and closer\n",
      "6. The knife in its hand glinted in moonlight\n"
     ]
    }
   ],
   "source": [
    "from slop_gen.generators.horror_gen.story import generate_story\n",
    "\n",
    "story_lines = generate_story()\n",
    "print(\"📝 Story:\")\n",
    "for i, line in enumerate(story_lines):\n",
    "    print(f\"{i+1}. {line}\")"
   ]
  },
  {
   "cell_type": "code",
   "execution_count": 4,
   "metadata": {},
   "outputs": [
    {
     "name": "stdout",
     "output_type": "stream",
     "text": [
      "📝 Story:\n",
      "1. The door creaked open by itself\n",
      "2. Cold fingers brushed against my neck\n",
      "3. Something whispered my dead sister's name\n",
      "4. Dark shapes gathered in the mirrors\n",
      "5. The walls began to bleed\n",
      "6. They're all standing behind me now\n"
     ]
    }
   ],
   "source": [
    "from slop_gen.generators.horror_gen.story import generate_story\n",
    "\n",
    "story_lines = generate_story()\n",
    "print(\"📝 Story:\")\n",
    "for i, line in enumerate(story_lines):\n",
    "    print(f\"{i+1}. {line}\")"
   ]
  },
  {
   "cell_type": "code",
   "execution_count": 5,
   "metadata": {},
   "outputs": [
    {
     "name": "stdout",
     "output_type": "stream",
     "text": [
      "📝 Story:\n",
      "1. The doll's eyes followed me across the room\n",
      "2. Its head slowly turned without the body moving\n",
      "3. Porcelain fingers began to twitch\n",
      "4. It stood up on crooked legs\n",
      "5. The smile spread impossibly wide\n",
      "6. Blood dripped from its perfect teeth\n"
     ]
    }
   ],
   "source": [
    "from slop_gen.generators.horror_gen.story import generate_story\n",
    "\n",
    "story_lines = generate_story()\n",
    "print(\"📝 Story:\")\n",
    "for i, line in enumerate(story_lines):\n",
    "    print(f\"{i+1}. {line}\")"
   ]
  },
  {
   "cell_type": "code",
   "execution_count": 4,
   "metadata": {},
   "outputs": [],
   "source": [
    "import os \n",
    "output_dir = \"assets/text\"\n",
    "output_path = os.path.join(output_dir, \"story.txt\")\n",
    "with open(output_path, \"w\", encoding=\"utf-8\") as f:\n",
    "    for i, line in enumerate(story_lines, start=1):\n",
    "        f.write(f\"{i}. {line}\\n\")"
   ]
  },
  {
   "cell_type": "code",
   "execution_count": 5,
   "metadata": {},
   "outputs": [
    {
     "name": "stdout",
     "output_type": "stream",
     "text": [
      "🖼️ Images saved to: ['assets/images/image_1.png', 'assets/images/image_2.png', 'assets/images/image_3.png']\n"
     ]
    }
   ],
   "source": [
    "from slop_gen.generators.images import generate_images\n",
    "image_paths = generate_images(story_lines)\n",
    "print(\"🖼️ Images saved to:\", image_paths)"
   ]
  },
  {
   "cell_type": "code",
   "execution_count": null,
   "metadata": {},
   "outputs": [
    {
     "name": "stdout",
     "output_type": "stream",
     "text": [
      "🔊 Audio files saved to: ['assets/audio/audio_1.mp3', 'assets/audio/audio_2.mp3', 'assets/audio/audio_3.mp3']\n"
     ]
    }
   ],
   "source": [
    "from slop_gen.generators.audio import generate_audio\n",
    "audio_paths = generate_audio(story_lines, speed=0.75)\n",
    "print(\"🔊 Audio files saved to:\", audio_paths)\n"
   ]
  },
  {
   "cell_type": "code",
   "execution_count": 2,
   "metadata": {},
   "outputs": [
    {
     "name": "stdout",
     "output_type": "stream",
     "text": [
      "Moviepy - Building video assets/output/final_horror_clip.mp4.\n",
      "MoviePy - Writing audio in final_horror_clipTEMP_MPY_wvf_snd.mp3\n"
     ]
    },
    {
     "name": "stderr",
     "output_type": "stream",
     "text": [
      "                                                                   \r"
     ]
    },
    {
     "name": "stdout",
     "output_type": "stream",
     "text": [
      "MoviePy - Done.\n",
      "Moviepy - Writing video assets/output/final_horror_clip.mp4\n",
      "\n"
     ]
    },
    {
     "name": "stderr",
     "output_type": "stream",
     "text": [
      "                                                              \r"
     ]
    },
    {
     "name": "stdout",
     "output_type": "stream",
     "text": [
      "Moviepy - Done !\n",
      "Moviepy - video ready assets/output/final_horror_clip.mp4\n",
      "✅ Video written to assets/output/final_horror_clip.mp4\n",
      "🎬 Done!\n"
     ]
    }
   ],
   "source": [
    "from slop_gen.generators.video import create_video\n",
    "\n",
    "image_paths = [\"assets/images/image_1.png\", \"assets/images/image_2.png\", \"assets/images/image_3.png\", \"assets/images/image_4.png\", \"assets/images/image_5.png\", \"assets/images/image_6.png\"]\n",
    "audio_paths = [\"assets/audio/audio_1.mp3\", \"assets/audio/audio_2.mp3\", \"assets/audio/audio_3.mp3\", \"assets/audio/audio_4.mp3\", \"assets/audio/audio_5.mp3\", \"assets/audio/audio_6.mp3\"]\n",
    "\n",
    "create_video(\n",
    "    image_paths=image_paths,\n",
    "    audio_paths=audio_paths,\n",
    "    output_path=\"assets/output/final_horror_clip.mp4\",\n",
    "    story_lines=story_lines,\n",
    "    music_path=\"assets/music/music.mp3\"\n",
    ")\n",
    "print(\"🎬 Done!\")\n"
   ]
  }
 ],
 "metadata": {
  "kernelspec": {
   "display_name": "slop_gen",
   "language": "python",
   "name": "python3"
  },
  "language_info": {
   "codemirror_mode": {
    "name": "ipython",
    "version": 3
   },
   "file_extension": ".py",
   "mimetype": "text/x-python",
   "name": "python",
   "nbconvert_exporter": "python",
   "pygments_lexer": "ipython3",
   "version": "3.11.11"
  }
 },
 "nbformat": 4,
 "nbformat_minor": 2
}
