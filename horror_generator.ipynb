{
 "cells": [
  {
   "cell_type": "code",
   "execution_count": 1,
   "metadata": {},
   "outputs": [
    {
     "name": "stderr",
     "output_type": "stream",
     "text": [
      "/Users/milesbramwit/info_final_project/slop_bot/venv/lib/python3.11/site-packages/tqdm/auto.py:21: TqdmWarning: IProgress not found. Please update jupyter and ipywidgets. See https://ipywidgets.readthedocs.io/en/stable/user_install.html\n",
      "  from .autonotebook import tqdm as notebook_tqdm\n"
     ]
    },
    {
     "name": "stdout",
     "output_type": "stream",
     "text": [
      "📝 Story:\n",
      "1. The basement door slowly creaks open\n",
      "2. Red eyes gleam in the darkness below\n",
      "3. Wet footprints climb the stairs toward me\n"
     ]
    }
   ],
   "source": [
    "from slop_gen.generators.story import generate_story\n",
    "story_lines = generate_story()\n",
    "print(\"📝 Story:\")\n",
    "for i, line in enumerate(story_lines):\n",
    "    print(f\"{i+1}. {line}\")"
   ]
  },
  {
   "cell_type": "code",
   "execution_count": 4,
   "metadata": {},
   "outputs": [],
   "source": [
    "import os \n",
    "output_dir = \"assets/text\"\n",
    "output_path = os.path.join(output_dir, \"story.txt\")\n",
    "with open(output_path, \"w\", encoding=\"utf-8\") as f:\n",
    "    for i, line in enumerate(story_lines, start=1):\n",
    "        f.write(f\"{i}. {line}\\n\")"
   ]
  },
  {
   "cell_type": "code",
   "execution_count": 5,
   "metadata": {},
   "outputs": [
    {
     "name": "stdout",
     "output_type": "stream",
     "text": [
      "🖼️ Images saved to: ['assets/images/image_1.png', 'assets/images/image_2.png', 'assets/images/image_3.png']\n"
     ]
    }
   ],
   "source": [
    "from slop_gen.generators.images import generate_images\n",
    "image_paths = generate_images(story_lines)\n",
    "print(\"🖼️ Images saved to:\", image_paths)"
   ]
  },
  {
   "cell_type": "code",
   "execution_count": null,
   "metadata": {},
   "outputs": [
    {
     "name": "stdout",
     "output_type": "stream",
     "text": [
      "🔊 Audio files saved to: ['assets/audio/audio_1.mp3', 'assets/audio/audio_2.mp3', 'assets/audio/audio_3.mp3']\n"
     ]
    }
   ],
   "source": [
    "from slop_gen.generators.audio import generate_audio\n",
    "audio_paths = generate_audio(story_lines, speed=0.75)\n",
    "print(\"🔊 Audio files saved to:\", audio_paths)\n"
   ]
  },
  {
   "cell_type": "code",
   "execution_count": 2,
   "metadata": {},
   "outputs": [
    {
     "name": "stdout",
     "output_type": "stream",
     "text": [
      "Moviepy - Building video assets/output/final_horror_clip.mp4.\n",
      "MoviePy - Writing audio in final_horror_clipTEMP_MPY_wvf_snd.mp3\n"
     ]
    },
    {
     "name": "stderr",
     "output_type": "stream",
     "text": [
      "                                                                   \r"
     ]
    },
    {
     "name": "stdout",
     "output_type": "stream",
     "text": [
      "MoviePy - Done.\n",
      "Moviepy - Writing video assets/output/final_horror_clip.mp4\n",
      "\n"
     ]
    },
    {
     "name": "stderr",
     "output_type": "stream",
     "text": [
      "                                                              \r"
     ]
    },
    {
     "name": "stdout",
     "output_type": "stream",
     "text": [
      "Moviepy - Done !\n",
      "Moviepy - video ready assets/output/final_horror_clip.mp4\n",
      "✅ Video written to assets/output/final_horror_clip.mp4\n",
      "🎬 Done!\n"
     ]
    }
   ],
   "source": [
    "from slop_gen.generators.video import create_video\n",
    "\n",
    "image_paths = [\"assets/images/image_1.png\", \"assets/images/image_2.png\", \"assets/images/image_3.png\", \"assets/images/image_4.png\", \"assets/images/image_5.png\", \"assets/images/image_6.png\"]\n",
    "audio_paths = [\"assets/audio/audio_1.mp3\", \"assets/audio/audio_2.mp3\", \"assets/audio/audio_3.mp3\", \"assets/audio/audio_4.mp3\", \"assets/audio/audio_5.mp3\", \"assets/audio/audio_6.mp3\"]\n",
    "\n",
    "create_video(\n",
    "    image_paths=image_paths,\n",
    "    audio_paths=audio_paths,\n",
    "    output_path=\"assets/output/final_horror_clip.mp4\",\n",
    "    story_lines=story_lines,\n",
    "    music_path=\"assets/music/music.mp3\"\n",
    ")\n",
    "print(\"🎬 Done!\")\n"
   ]
  }
 ],
 "metadata": {
  "kernelspec": {
   "display_name": "venv",
   "language": "python",
   "name": "python3"
  },
  "language_info": {
   "codemirror_mode": {
    "name": "ipython",
    "version": 3
   },
   "file_extension": ".py",
   "mimetype": "text/x-python",
   "name": "python",
   "nbconvert_exporter": "python",
   "pygments_lexer": "ipython3",
   "version": "3.11.6"
  }
 },
 "nbformat": 4,
 "nbformat_minor": 2
}
