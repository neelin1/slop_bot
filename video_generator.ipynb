{
 "cells": [
  {
   "cell_type": "code",
   "execution_count": 1,
   "metadata": {},
   "outputs": [
    {
     "name": "stderr",
     "output_type": "stream",
     "text": [
      "/Users/neelin2/anaconda3/envs/slop_gen/lib/python3.11/site-packages/tqdm/auto.py:21: TqdmWarning: IProgress not found. Please update jupyter and ipywidgets. See https://ipywidgets.readthedocs.io/en/stable/user_install.html\n",
      "  from .autonotebook import tqdm as notebook_tqdm\n"
     ]
    }
   ],
   "source": [
    "from slop_gen.generators.story_gen.planning import (\n",
    "    Parameters,\n",
    "    PostProcessing,\n",
    "    generate_high_level_plan,\n",
    ")\n",
    "from slop_gen.generators.story_gen.scene_gen import (\n",
    "    generate_all_scenes,\n",
    "    SceneDescription,\n",
    ")\n",
    "from slop_gen.generators.story_gen.images import generate_images_for_scenes\n",
    "import os"
   ]
  },
  {
   "cell_type": "markdown",
   "metadata": {},
   "source": [
    "# Input"
   ]
  },
  {
   "cell_type": "code",
   "execution_count": 2,
   "metadata": {},
   "outputs": [],
   "source": [
    "story: str = \"\"\"\n",
    "Depression is quiet.\n",
    "\n",
    "Depression isn’t words, it’s the words we don’t say.\n",
    "\n",
    "It’s telling everyone we’re fine after another night of tossing and turning.\n",
    "\n",
    "It’s in the fake smile we give our mothers because truly, we can’t be the ones to break her heart.\n",
    "\n",
    "It’s the questionable look from a friend.\n",
    "\n",
    "The small push from your dog against your leg, wondering why you’ve been so distant.\n",
    "\n",
    "It’s in the grayish colors of my walls. The red used to burn so bright but like any other flame, they’ve dimmed.\n",
    "\n",
    "It’s in the lonely eyes of my sister. In the raging glare do my brother; because for some reason, he can’t do anything but fight anymore.\n",
    "\n",
    "It’s the lump in our chests we can’t get rid of. It’s sticks to us, and weighs like wet cement. With every step we feel it shift from side to side in our hearts, swinging us off balance.\n",
    "\n",
    "It’s in the soft, broken eyes of my boyfriend. Who’s smile is beginning to wear.\n",
    "\n",
    "Depression is in the world around me. It’s in the endless fighting, the killing, the shooting, the looting, the burning.\n",
    "\n",
    "It’s in every day that burns like a thousand suns. It’s in the thick frosts of winter.\n",
    "\n",
    "It’s in my best friend, and the bruises her father gave to her like roses from a garden.\n",
    "\n",
    "It’s in my Father, and the bottles that collect by his bed side. It’s in every cigarette, in every dismissive shake of his head.\n",
    "\n",
    "It’s in me. Inside my thoughts, in every crevice of my broken and shattered heart. It’s in my words, tangling around my numb tongue crying to escape.\n",
    "\n",
    "It’s in my bed, chaining me to the spring-ridden mattress.\n",
    "\n",
    "It’s in my bathroom, in the looming reflection of my mirror.\n",
    "\n",
    "Depression is quiet, until it’s not.\n",
    "\n",
    "Depression is simple, until it’s not.\n",
    "\n",
    "Depression is in anything and everything. . . Until it’s not.\n",
    "\"\"\""
   ]
  },
  {
   "cell_type": "code",
   "execution_count": 3,
   "metadata": {},
   "outputs": [],
   "source": [
    "BASE_IMAGE_OUTPUT_DIR = \"assets/generated_images\"\n",
    "\n",
    "parameters: Parameters = {\n",
    "    \"story\": story,\n",
    "    \"director_prompt\": \"Fantasy dark academia, oil painting style\",\n",
    "    \"character_design\": None,\n",
    "    \"video_gen\": False,\n",
    "    \"music\": False,\n",
    "    \"music_file\": None,\n",
    "    \"post_processing\": [PostProcessing.PAN, PostProcessing.CAPTION],\n",
    "    \"high_level_plan\": None,\n",
    "    \"scene_descriptions\": None,\n",
    "    \"image_paths\": None,\n",
    "}"
   ]
  },
  {
   "cell_type": "markdown",
   "metadata": {},
   "source": [
    "# Markdown"
   ]
  },
  {
   "cell_type": "code",
   "execution_count": 4,
   "metadata": {},
   "outputs": [
    {
     "name": "stderr",
     "output_type": "stream",
     "text": [
      "INFO:httpx:HTTP Request: POST https://api.ai.it.cornell.edu/v1/chat/completions \"HTTP/1.1 200 OK\"\n"
     ]
    },
    {
     "name": "stdout",
     "output_type": "stream",
     "text": [
      "# Visual Style\n",
      "The video will embrace a \"fantasy dark academia\" aesthetic, rendered in a painterly, oil painting style. The palette will be dominated by muted grays, deep reds, and shadowy blues, with occasional bursts of color to signify emotional intensity. Lighting will be soft and diffused, with chiaroscuro effects to evoke depth and introspection. Textures will be rich and tactile, with visible brushstrokes and layered shadows, creating a sense of timeless melancholy and poetic realism. The world will feel both grounded and slightly surreal, as if the characters inhabit a dreamlike, scholarly realm where emotion and environment are deeply intertwined.\n",
      "\n",
      "# Visual Flow\n",
      "The video will unfold as a series of interconnected vignettes, each seamlessly transitioning into the next through visual motifs (e.g., a lingering hand, a shifting shadow, a recurring object like a book or a wilted rose). The camera will move slowly and deliberately, often lingering on small, telling details—a trembling hand, a flickering candle, a rain-streaked window. The narrative will oscillate between intimate close-ups and wider, atmospheric shots of the environment, mirroring the internal and external manifestations of depression. The visual tempo will be slow and contemplative, punctuated by moments of heightened color or movement to reflect emotional peaks.\n",
      "\n",
      "# Major Scenes Breakdown\n",
      "1. **Opening: The Quiet Room**  \n",
      "   - A dimly lit, book-filled study with oil-painted textures. The protagonist sits in silence, shadows pooling around them. The world is still, the air heavy.\n",
      "2. **The Unspoken Words**  \n",
      "   - Close-up of the protagonist’s lips, unmoving. The room is filled with unsent letters, words swirling in the air like ghostly script, fading before they’re spoken.\n",
      "3. **The Masked Smile**  \n",
      "   - The protagonist greets their mother with a forced smile. The mother’s face is soft, but the protagonist’s smile cracks at the edges, paint flaking away.\n",
      "4. **The Friend’s Concern**  \n",
      "   - A friend’s face, half in shadow, eyes searching. The protagonist looks away, the space between them filled with blurred, swirling brushstrokes.\n",
      "5. **The Dog’s Comfort**  \n",
      "   - A loyal dog nudges the protagonist’s leg. The dog’s fur is rendered in warm, golden tones, contrasting the cool, gray room.\n",
      "6. **Fading Colors**  \n",
      "   - The protagonist’s bedroom walls, once vibrant red, now dulled and gray. A candle flickers, its flame barely visible.\n",
      "7. **Family Tension**  \n",
      "   - Sister’s lonely eyes, brother’s angry glare. The family sits at a long, dark table, each isolated in their own pool of shadow.\n",
      "8. **The Weight of Depression**  \n",
      "   - The protagonist walks, their body heavy, footsteps leaving dark, wet imprints on the floor. The world tilts slightly, as if off-balance.\n",
      "9. **Boyfriend’s Weariness**  \n",
      "   - The boyfriend’s eyes are soft but tired, his smile faint. The two sit together, hands almost touching but not quite.\n",
      "10. **World in Turmoil**  \n",
      "    - Quick, painterly flashes of news headlines, protests, burning buildings, and winter frost, all rendered in chaotic, swirling brushstrokes.\n",
      "11. **Best Friend’s Pain**  \n",
      "    - The best friend’s bruised arms, roses blooming from the wounds. The garden is overgrown, petals falling like tears.\n",
      "12. **Father’s Escape**  \n",
      "    - The father’s bedside, bottles and cigarettes accumulating. The father’s face is obscured by smoke, his gestures dismissive.\n",
      "13. **Internal Struggle**  \n",
      "    - The protagonist alone, their thoughts visualized as tangled, dark threads wrapping around their heart and tongue.\n",
      "14. **Chained to the Bed**  \n",
      "    - The protagonist lies in bed, chains of paint binding them to the mattress, the room dim and oppressive.\n",
      "15. **Mirror Reflection**  \n",
      "    - In the bathroom, the protagonist faces a looming, distorted reflection, the mirror surface rippling like water.\n",
      "16. **Climax: The Breaking Point**  \n",
      "    - The quiet shatters—colors bleed, brushstrokes become frantic, the world distorts as depression erupts into chaos.\n",
      "17. **Resolution: The Fading**  \n",
      "    - The chaos subsides. The protagonist sits in a pool of soft light, the world still gray but with hints of color returning. The final shot lingers on their face, contemplative, as the oil-painted world breathes quietly.\n",
      "\n",
      "# Character Design\n",
      "- **Protagonist**: Androgynous, late teens to early twenties, with pale skin and dark, tousled hair. Wears vintage academic clothing—sweaters, collared shirts, and long coats in muted tones. Eyes are expressive, often rimmed with shadows, conveying exhaustion and depth. Movements are slow, weighted.\n",
      "- **Mother**: Gentle features, warm but worried eyes. Wears soft, flowing dresses in faded pastels. Her presence is comforting but tinged with sadness.\n",
      "- **Friend**: Youthful, with sharp, observant eyes. Dressed in layered, slightly disheveled academic attire. Their concern is visible in their posture and gaze.\n",
      "- **Dog**: Medium-sized, golden or brown, with soulful eyes. Rendered with soft, warm brushstrokes, providing a visual contrast to the human characters.\n",
      "- **Sister**: Younger, with large, lonely eyes and delicate features. Wears simple, slightly oversized clothing, often sitting apart from others.\n",
      "- **Brother**: Older teen, tense posture, jaw set. Wears dark, rumpled clothes, eyes burning with frustration.\n",
      "- **Boyfriend**: Kind face, gentle eyes, but visibly tired. Wears a worn sweater, hands often fidgeting or reaching out.\n",
      "- **Best Friend**: Fragile, with visible bruises on arms, hair slightly unkempt. Wears floral patterns, a visual nod to the “roses from a garden” metaphor.\n",
      "- **Father**: Middle-aged, face obscured by shadows or smoke. Wears a wrinkled shirt, surrounded by bottles and cigarettes, always slightly turned away.\n",
      "All characters are rendered in the oil painting style, with visible brushstrokes and a slightly surreal, timeless quality, blending seamlessly into the dark academia environment.\n"
     ]
    }
   ],
   "source": [
    "parameters[\"high_level_plan\"] = generate_high_level_plan(parameters)\n",
    "print(parameters[\"high_level_plan\"])\n"
   ]
  },
  {
   "cell_type": "markdown",
   "metadata": {},
   "source": [
    "# Generate Scenes"
   ]
  },
  {
   "cell_type": "code",
   "execution_count": 5,
   "metadata": {},
   "outputs": [
    {
     "name": "stdout",
     "output_type": "stream",
     "text": [
      "Generating all scenes for the story...\n",
      "Scene generation iteration 1...\n"
     ]
    },
    {
     "name": "stderr",
     "output_type": "stream",
     "text": [
      "INFO:httpx:HTTP Request: POST https://api.ai.it.cornell.edu/v1/chat/completions \"HTTP/1.1 200 OK\"\n"
     ]
    },
    {
     "name": "stdout",
     "output_type": "stream",
     "text": [
      "Scene generation iteration 2...\n"
     ]
    },
    {
     "name": "stderr",
     "output_type": "stream",
     "text": [
      "INFO:httpx:HTTP Request: POST https://api.ai.it.cornell.edu/v1/chat/completions \"HTTP/1.1 200 OK\"\n"
     ]
    },
    {
     "name": "stdout",
     "output_type": "stream",
     "text": [
      "Scene generation iteration 3...\n"
     ]
    },
    {
     "name": "stderr",
     "output_type": "stream",
     "text": [
      "INFO:httpx:HTTP Request: POST https://api.ai.it.cornell.edu/v1/chat/completions \"HTTP/1.1 200 OK\"\n"
     ]
    },
    {
     "name": "stdout",
     "output_type": "stream",
     "text": [
      "Scene generation iteration 4...\n"
     ]
    },
    {
     "name": "stderr",
     "output_type": "stream",
     "text": [
      "INFO:httpx:HTTP Request: POST https://api.ai.it.cornell.edu/v1/chat/completions \"HTTP/1.1 200 OK\"\n"
     ]
    },
    {
     "name": "stdout",
     "output_type": "stream",
     "text": [
      "Scene generation iteration 5...\n"
     ]
    },
    {
     "name": "stderr",
     "output_type": "stream",
     "text": [
      "INFO:httpx:HTTP Request: POST https://api.ai.it.cornell.edu/v1/chat/completions \"HTTP/1.1 200 OK\"\n"
     ]
    },
    {
     "name": "stdout",
     "output_type": "stream",
     "text": [
      "Scene generation iteration 6...\n"
     ]
    },
    {
     "name": "stderr",
     "output_type": "stream",
     "text": [
      "INFO:httpx:HTTP Request: POST https://api.ai.it.cornell.edu/v1/chat/completions \"HTTP/1.1 200 OK\"\n"
     ]
    },
    {
     "name": "stdout",
     "output_type": "stream",
     "text": [
      "'DONE' signal received. Story fully processed.\n",
      "\n",
      "Generated Scenes:\n",
      "  Scene 1:\n",
      "    Text: It’s the questionable look from a friend.\n",
      "    Description: A close-up portrait of a friend in a painterly, oil painting style with visible brushstrokes, embodying the fantasy dark academia aesthetic. The friend’s face is half in shadow, eyes sharp and searching, conveying concern and unspoken questions. The background is a blurred swirl of muted grays and shadowy blues, with hints of deep red, creating a moody, introspective atmosphere. The lighting is soft and diffused, with chiaroscuro effects highlighting the contours of the face. The friend wears layered, slightly disheveled academic clothing in muted tones, fitting the dark academia style. The overall mood is one of quiet tension and emotional depth.\n",
      "  Scene 2:\n",
      "    Text: The small push from your dog against your leg, wondering why you’ve been so distant.\n",
      "    Description: An intimate scene rendered in a painterly oil painting style with rich textures and visible brushstrokes, capturing a warm golden-brown dog nudging the protagonist’s leg. The dog’s fur is painted with warm, golden tones that contrast with the cool, grayish surroundings of a dimly lit room. The protagonist’s leg is clad in muted vintage academic clothing, pale skin visible. The background is softly blurred with muted grays and shadowy blues, evoking a quiet, melancholic atmosphere. Soft, diffused lighting with chiaroscuro effects creates depth and highlights the gentle interaction. The scene conveys a tender moment of silent comfort amid emotional distance, consistent with the fantasy dark academia aesthetic.\n",
      "  Scene 3:\n",
      "    Text: It’s in the grayish colors of my walls. The red used to burn so bright but like any other flame, they’ve dimmed.\n",
      "    Description: A painterly oil painting scene focusing on the protagonist’s bedroom walls, once vibrant red but now dulled to grayish tones. The texture of the walls is rich with visible brushstrokes, evoking a sense of fading warmth and lost vitality. A single candle flickers weakly on a nearby surface, its flame barely visible, casting soft, diffused light and deep shadows that create chiaroscuro effects. The room is rendered in muted grays, deep reds, and shadowy blues, consistent with the fantasy dark academia style. The atmosphere is heavy and introspective, with a subtle surreal quality, as if the room itself reflects the protagonist’s internal emotional state.\n",
      "  Scene 4:\n",
      "    Text: It’s in the lonely eyes of my sister. In the raging glare do my brother; because for some reason, he can’t do anything but fight anymore.\n",
      "    Description: A painterly oil painting scene depicting the protagonist's sister and brother in a dimly lit, shadowy room. The sister is shown with large, lonely eyes, her delicate features rendered with soft brushstrokes, wearing simple, slightly oversized clothing in muted tones. She sits apart, her posture withdrawn and melancholic. The brother stands nearby, his posture tense and jaw set, eyes burning with frustration and rage, wearing dark, rumpled clothes. The background is a dark, long table with pools of shadow isolating each family member, emphasizing emotional distance. The color palette includes muted grays, deep reds, and shadowy blues, with chiaroscuro lighting creating depth and a somber, introspective mood consistent with the fantasy dark academia oil painting style.\n",
      "  Scene 5:\n",
      "    Text: It’s the lump in our chests we can’t get rid of. It’s sticks to us, and weighs like wet cement. With every step we feel it shift from side to side in our hearts, swinging us off balance.\n",
      "    Description: An evocative oil painting scene showing the protagonist walking slowly through a dim, abstract space. Their body appears heavy and burdened, with visible dark, wet imprints left by their footsteps on the floor. The world around them tilts slightly, creating a subtle sense of imbalance and disorientation. The protagonist wears vintage academic clothing in muted tones, their face shadowed and weary. The background swirls with muted grays, deep reds, and shadowy blues, with visible brushstrokes conveying emotional weight and heaviness. Soft, diffused lighting with chiaroscuro effects highlights the protagonist's struggle, embodying the fantasy dark academia aesthetic with a surreal, poetic realism.\n",
      "  Scene 6:\n",
      "    Text: It’s in the soft, broken eyes of my boyfriend. Who’s smile is beginning to wear.\n",
      "    Description: A close, intimate oil painting portrait of the protagonist's boyfriend, rendered in the fantasy dark academia style. His eyes are soft but broken, conveying exhaustion and sadness, with subtle shadows under them. His faint smile is fragile, beginning to wear away, with paint-like cracks subtly appearing at the edges. He wears a worn sweater in muted tones, and his hands are visible, fidgeting or reaching out hesitantly. The background is softly blurred with muted grays, deep reds, and shadowy blues, with chiaroscuro lighting creating depth and emotional intensity. Visible brushstrokes add texture and a painterly quality, evoking a timeless, melancholic atmosphere.\n",
      "  Scene 7:\n",
      "    Text: Depression is in the world around me. It’s in the endless fighting, the killing, the shooting, the looting, the burning.\n",
      "    Description: A chaotic, painterly oil painting scene depicting a surreal, dark academia world in turmoil. The background is a swirling, shadowy mix of muted grays, deep reds, and shadowy blues, with painterly brushstrokes conveying movement and unrest. Scenes of endless fighting, shooting, looting, and burning are rendered as fragmented, ghostly images blending into one another—silhouettes of figures in conflict, flames licking at buildings, smoke rising in thick clouds. The lighting is dramatic chiaroscuro, with flickering highlights from fires casting eerie glows and deep shadows enveloping the scene. The overall mood is intense, turbulent, and oppressive, capturing the external manifestation of depression in a world engulfed by violence and chaos, consistent with the fantasy dark academia oil painting style.\n",
      "  Scene 8:\n",
      "    Text: It’s in every day that burns like a thousand suns. It’s in the thick frosts of winter.\n",
      "    Description: A painterly oil painting scene split into two contrasting halves, symbolizing the extremes of emotional experience. On one side, a harsh, blazing sun dominates a muted gray sky, its intense light casting long, distorted shadows and bathing the scene in deep reds and fiery oranges, evoking a sensation of burning heat and overwhelming pressure. On the other side, a cold, frost-covered landscape is rendered in shadowy blues and grays, with thick frost coating barren trees and frozen ground, the air heavy and still. The protagonist is subtly present in the middle ground, their figure small and weighed down, blending into the environment. The brushstrokes are rich and textured, with chiaroscuro lighting emphasizing the stark contrast between heat and cold, symbolizing the relentless, shifting nature of depression. The style remains consistent with the fantasy dark academia oil painting aesthetic, evoking a surreal, poetic realism.\n",
      "  Scene 9:\n",
      "    Text: It’s in my best friend, and the bruises her father gave to her like roses from a garden.\n",
      "    Description: An intimate, poignant oil painting scene focusing on the protagonist's best friend. She is depicted with fragile features and slightly unkempt hair, wearing floral-patterned clothing that contrasts with the muted, dark academia palette. Her arms bear visible bruises, rendered as deep purples and blues, but artistically transformed into blooming roses, petals unfolding from the wounds in a surreal, symbolic manner. The background is an overgrown, shadowy garden with tangled vines and fallen petals, painted in muted grays, deep reds, and shadowy blues, with soft, diffused chiaroscuro lighting creating a somber, melancholic atmosphere. Visible brushstrokes add texture and emotional depth, capturing the painful beauty and complexity of her suffering within the fantasy dark academia oil painting style.\n",
      "  Scene 10:\n",
      "    Text: It’s in my Father, and the bottles that collect by his bed side. It’s in every cigarette, in every dismissive shake of his head.\n",
      "    Description: A painterly oil painting scene depicting the protagonist's father in a dimly lit, shadowy room. The father is middle-aged, his face partially obscured by smoke curling from a cigarette held loosely between his fingers. He wears a wrinkled shirt, and his posture is slumped and dismissive, with a slight shake of his head conveying frustration or resignation. Surrounding him on the bedside table are numerous empty bottles, rendered with textured brushstrokes that catch the soft, diffused chiaroscuro lighting. The background is a muted blend of grays, deep reds, and shadowy blues, creating a somber, oppressive atmosphere consistent with the fantasy dark academia oil painting style. The scene conveys a sense of despair and escape through addiction, blending emotional depth with surreal, poetic realism.\n",
      "  Scene 11:\n",
      "    Text: It’s in me. Inside my thoughts, in every crevice of my broken and shattered heart. It’s in my words, tangling around my numb tongue crying to escape.\n",
      "    Description: An intimate, surreal oil painting scene focusing on the protagonist alone in a dimly lit, abstract space. The protagonist is depicted with pale skin and dark, tousled hair, wearing vintage academic clothing in muted tones. Their face is shadowed, eyes closed or downcast, conveying deep internal struggle. Around their head and chest, dark, tangled threads or brushstrokes swirl and wrap tightly, symbolizing the crevices of a broken and shattered heart and the words tangled around a numb tongue. The background is a textured blend of muted grays, deep reds, and shadowy blues, with chiaroscuro lighting emphasizing the emotional intensity and isolation. Visible brushstrokes add a tactile, painterly quality, evoking the fantasy dark academia aesthetic and a poetic realism that visualizes internal pain and the desperate desire to express it.\n",
      "  Scene 12:\n",
      "    Text: It’s in my bed, chaining me to the spring-ridden mattress.\n",
      "    Description: A painterly oil painting scene showing the protagonist lying in bed, rendered in the fantasy dark academia style. The bed is old and worn, with visible spring coils beneath a thin, faded mattress. The protagonist is bound by chains made of thick, textured paint that wrap around their body and the mattress, symbolizing the feeling of being trapped and immobilized by depression. The room is dimly lit with soft, diffused chiaroscuro lighting, casting deep shadows and muted highlights. The color palette includes muted grays, deep reds, and shadowy blues, with visible brushstrokes creating a rich, tactile texture. The atmosphere is heavy and oppressive, yet intimate, capturing the surreal, poetic realism of emotional captivity within the dark academia oil painting aesthetic.\n",
      "  Scene 13:\n",
      "    Text: It’s in my bathroom, in the looming reflection of my mirror.\n",
      "    Description: A painterly oil painting scene set in a dimly lit bathroom with muted grays, deep reds, and shadowy blues, consistent with the fantasy dark academia aesthetic. The protagonist stands before a large, old mirror with a slightly warped, rippling surface that distorts their reflection. The reflection looms larger than life, with subtle surreal ripples like water, emphasizing emotional turmoil. The protagonist's face is pale and shadowed, eyes downcast or filled with quiet despair. The bathroom is textured with visible brushstrokes, featuring worn tiles and a faint fog on the mirror's edges. Soft, diffused chiaroscuro lighting creates deep shadows and highlights, evoking a heavy, introspective mood. The scene captures the haunting confrontation with self, blending poetic realism and surrealism in oil painting style.\n",
      "  Scene 14:\n",
      "    Text: Depression is quiet, until it’s not.\n",
      "    Description: A dramatic, painterly oil painting scene illustrating the sudden eruption of internal turmoil. The background is a swirling chaos of muted grays, deep reds, and shadowy blues, with brushstrokes becoming frantic and dynamic. The protagonist is at the center, their figure fragmented and distorted as if breaking apart, with colors bleeding and blending wildly around them. The lighting is intense chiaroscuro, with sharp contrasts and flickering highlights that suggest emotional upheaval. Visual motifs from previous scenes—like chains, tangled threads, and rippling reflections—intertwine and explode outward. The atmosphere is turbulent and overwhelming, capturing the moment when quiet depression shatters into visible chaos, rendered in the fantasy dark academia oil painting style with rich textures and surreal elements.\n",
      "  Scene 15:\n",
      "    Text: Depression is simple, until it’s not.\n",
      "    Description: A continuation of the previous chaotic scene, this painterly oil painting depicts the protagonist amidst a storm of swirling brushstrokes and fragmented imagery. The colors remain muted grays, deep reds, and shadowy blues, but with bursts of brighter hues symbolizing emotional peaks. The protagonist's form is partially obscured by abstract shapes and shadows, conveying confusion and complexity. The background blends elements from earlier scenes—flickering candle flames, broken smiles, and distorted mirrors—melding into a surreal, dreamlike environment. The lighting is soft yet unsettled, with chiaroscuro effects emphasizing depth and emotional conflict. The overall mood is one of escalating complexity and inner struggle, consistent with the fantasy dark academia aesthetic and oil painting style.\n",
      "  Scene 16:\n",
      "    Text: Depression is in anything and everything. . . Until it’s not.\n",
      "    Description: A surreal, painterly oil painting scene embodying the pervasive and elusive nature of depression. The composition features a dreamlike, scholarly realm with muted grays, deep reds, and shadowy blues swirling around the protagonist, who is partially obscured by abstract, flowing brushstrokes that blend into the environment. The figure appears both present and fading, symbolizing the omnipresence of depression yet its intangible quality. Visual motifs from previous scenes—such as chains, tangled threads, and wilted roses—are subtly integrated into the swirling background. The lighting is soft and diffused with chiaroscuro effects, creating depth and a contemplative, melancholic atmosphere. The style is consistent with the fantasy dark academia oil painting aesthetic, rich in texture and poetic realism.\n"
     ]
    }
   ],
   "source": [
    "NUM_SCENES_PER_ITERATION = 3  # Define how many scenes to generate per call to the underlying iterative function\n",
    "MAX_ITERATIONS = 15  # Define a maximum number of iterations for the wrapper function\n",
    "\n",
    "if parameters[\"high_level_plan\"] is not None:\n",
    "    print(f\"Generating all scenes for the story...\")\n",
    "    try:\n",
    "        all_generated_scenes = generate_all_scenes(\n",
    "            story=parameters[\"story\"],\n",
    "            high_level_plan=parameters[\"high_level_plan\"],\n",
    "            num_scenes_per_iteration=NUM_SCENES_PER_ITERATION,\n",
    "            max_iterations=MAX_ITERATIONS,\n",
    "        )\n",
    "        parameters[\"scene_descriptions\"] = [\n",
    "            scene.model_dump() for scene in all_generated_scenes\n",
    "        ]  # Store as list of dicts\n",
    "\n",
    "        print(\"\\nGenerated Scenes:\")\n",
    "        if parameters[\"scene_descriptions\"]:\n",
    "            for i, scene in enumerate(parameters[\"scene_descriptions\"]):\n",
    "                print(f\"  Scene {i+1}:\")\n",
    "                print(f\"    Text: {scene['text']}\")\n",
    "                print(f\"    Description: {scene['description']}\")\n",
    "        else:\n",
    "            print(\"  No scenes were generated in this batch.\")\n",
    "\n",
    "    except Exception as e:\n",
    "        print(f\"Error during scene generation: {e}\")\n",
    "else:\n",
    "    raise ValueError(\"High-level plan is missing.\")"
   ]
  },
  {
   "cell_type": "markdown",
   "metadata": {},
   "source": [
    "# Image Generation"
   ]
  },
  {
   "cell_type": "code",
   "execution_count": 6,
   "metadata": {},
   "outputs": [
    {
     "name": "stderr",
     "output_type": "stream",
     "text": [
      "INFO:slop_gen.generators.story_gen.images:Ensured base output directory exists: assets/generated_images\n",
      "INFO:slop_gen.generators.story_gen.images:Processing scene 1/16: Generating image for 'A close-up portrait of a friend in a painterly, oi...' -> assets/generated_images/scene_0.png\n",
      "INFO:slop_gen.generators.story_gen.images:Generating image for prompt: 'A close-up portrait of a friend in a painterly, oi...' with size 1024x1536\n"
     ]
    },
    {
     "name": "stdout",
     "output_type": "stream",
     "text": [
      "\n",
      "Starting image generation for 16 scenes...\n",
      "Created image output directory: assets/generated_images\n"
     ]
    },
    {
     "name": "stderr",
     "output_type": "stream",
     "text": [
      "ERROR:slop_gen.generators.story_gen.images:Error generating or saving image for prompt 'A close-up portrait of a friend in a painterly, oil painting style with visible brushstrokes, embodying the fantasy dark academia aesthetic. The friend’s face is half in shadow, eyes sharp and searching, conveying concern and unspoken questions. The background is a blurred swirl of muted grays and shadowy blues, with hints of deep red, creating a moody, introspective atmosphere. The lighting is soft and diffused, with chiaroscuro effects highlighting the contours of the face. The friend wears layered, slightly disheveled academic clothing in muted tones, fitting the dark academia style. The overall mood is one of quiet tension and emotional depth.': 400 Client Error: Bad Request for url: https://api.ai.it.cornell.edu/v1/images/generations\n",
      "ERROR:slop_gen.generators.story_gen.images:Failed to generate image for scene 0 with prompt: A close-up portrait of a friend in a painterly, oil painting style with visible brushstrokes, embodying the fantasy dark academia aesthetic. The friend’s face is half in shadow, eyes sharp and searching, conveying concern and unspoken questions. The background is a blurred swirl of muted grays and shadowy blues, with hints of deep red, creating a moody, introspective atmosphere. The lighting is soft and diffused, with chiaroscuro effects highlighting the contours of the face. The friend wears layered, slightly disheveled academic clothing in muted tones, fitting the dark academia style. The overall mood is one of quiet tension and emotional depth.\n",
      "INFO:slop_gen.generators.story_gen.images:Processing scene 2/16: Generating image for 'An intimate scene rendered in a painterly oil pain...' -> assets/generated_images/scene_1.png\n",
      "INFO:slop_gen.generators.story_gen.images:Generating image for prompt: 'An intimate scene rendered in a painterly oil pain...' with size 1024x1536\n",
      "ERROR:slop_gen.generators.story_gen.images:Error generating or saving image for prompt 'An intimate scene rendered in a painterly oil painting style with rich textures and visible brushstrokes, capturing a warm golden-brown dog nudging the protagonist’s leg. The dog’s fur is painted with warm, golden tones that contrast with the cool, grayish surroundings of a dimly lit room. The protagonist’s leg is clad in muted vintage academic clothing, pale skin visible. The background is softly blurred with muted grays and shadowy blues, evoking a quiet, melancholic atmosphere. Soft, diffused lighting with chiaroscuro effects creates depth and highlights the gentle interaction. The scene conveys a tender moment of silent comfort amid emotional distance, consistent with the fantasy dark academia aesthetic.': 400 Client Error: Bad Request for url: https://api.ai.it.cornell.edu/v1/images/generations\n",
      "ERROR:slop_gen.generators.story_gen.images:Failed to generate image for scene 1 with prompt: An intimate scene rendered in a painterly oil painting style with rich textures and visible brushstrokes, capturing a warm golden-brown dog nudging the protagonist’s leg. The dog’s fur is painted with warm, golden tones that contrast with the cool, grayish surroundings of a dimly lit room. The protagonist’s leg is clad in muted vintage academic clothing, pale skin visible. The background is softly blurred with muted grays and shadowy blues, evoking a quiet, melancholic atmosphere. Soft, diffused lighting with chiaroscuro effects creates depth and highlights the gentle interaction. The scene conveys a tender moment of silent comfort amid emotional distance, consistent with the fantasy dark academia aesthetic.\n",
      "INFO:slop_gen.generators.story_gen.images:Processing scene 3/16: Generating image for 'A painterly oil painting scene focusing on the pro...' -> assets/generated_images/scene_2.png\n",
      "INFO:slop_gen.generators.story_gen.images:Generating image for prompt: 'A painterly oil painting scene focusing on the pro...' with size 1024x1536\n",
      "ERROR:slop_gen.generators.story_gen.images:Error generating or saving image for prompt 'A painterly oil painting scene focusing on the protagonist’s bedroom walls, once vibrant red but now dulled to grayish tones. The texture of the walls is rich with visible brushstrokes, evoking a sense of fading warmth and lost vitality. A single candle flickers weakly on a nearby surface, its flame barely visible, casting soft, diffused light and deep shadows that create chiaroscuro effects. The room is rendered in muted grays, deep reds, and shadowy blues, consistent with the fantasy dark academia style. The atmosphere is heavy and introspective, with a subtle surreal quality, as if the room itself reflects the protagonist’s internal emotional state.': 400 Client Error: Bad Request for url: https://api.ai.it.cornell.edu/v1/images/generations\n",
      "ERROR:slop_gen.generators.story_gen.images:Failed to generate image for scene 2 with prompt: A painterly oil painting scene focusing on the protagonist’s bedroom walls, once vibrant red but now dulled to grayish tones. The texture of the walls is rich with visible brushstrokes, evoking a sense of fading warmth and lost vitality. A single candle flickers weakly on a nearby surface, its flame barely visible, casting soft, diffused light and deep shadows that create chiaroscuro effects. The room is rendered in muted grays, deep reds, and shadowy blues, consistent with the fantasy dark academia style. The atmosphere is heavy and introspective, with a subtle surreal quality, as if the room itself reflects the protagonist’s internal emotional state.\n",
      "INFO:slop_gen.generators.story_gen.images:Processing scene 4/16: Generating image for 'A painterly oil painting scene depicting the prota...' -> assets/generated_images/scene_3.png\n",
      "INFO:slop_gen.generators.story_gen.images:Generating image for prompt: 'A painterly oil painting scene depicting the prota...' with size 1024x1536\n",
      "ERROR:slop_gen.generators.story_gen.images:Error generating or saving image for prompt 'A painterly oil painting scene depicting the protagonist's sister and brother in a dimly lit, shadowy room. The sister is shown with large, lonely eyes, her delicate features rendered with soft brushstrokes, wearing simple, slightly oversized clothing in muted tones. She sits apart, her posture withdrawn and melancholic. The brother stands nearby, his posture tense and jaw set, eyes burning with frustration and rage, wearing dark, rumpled clothes. The background is a dark, long table with pools of shadow isolating each family member, emphasizing emotional distance. The color palette includes muted grays, deep reds, and shadowy blues, with chiaroscuro lighting creating depth and a somber, introspective mood consistent with the fantasy dark academia oil painting style.': 400 Client Error: Bad Request for url: https://api.ai.it.cornell.edu/v1/images/generations\n",
      "ERROR:slop_gen.generators.story_gen.images:Failed to generate image for scene 3 with prompt: A painterly oil painting scene depicting the protagonist's sister and brother in a dimly lit, shadowy room. The sister is shown with large, lonely eyes, her delicate features rendered with soft brushstrokes, wearing simple, slightly oversized clothing in muted tones. She sits apart, her posture withdrawn and melancholic. The brother stands nearby, his posture tense and jaw set, eyes burning with frustration and rage, wearing dark, rumpled clothes. The background is a dark, long table with pools of shadow isolating each family member, emphasizing emotional distance. The color palette includes muted grays, deep reds, and shadowy blues, with chiaroscuro lighting creating depth and a somber, introspective mood consistent with the fantasy dark academia oil painting style.\n",
      "INFO:slop_gen.generators.story_gen.images:Processing scene 5/16: Generating image for 'An evocative oil painting scene showing the protag...' -> assets/generated_images/scene_4.png\n",
      "INFO:slop_gen.generators.story_gen.images:Generating image for prompt: 'An evocative oil painting scene showing the protag...' with size 1024x1536\n",
      "ERROR:slop_gen.generators.story_gen.images:Error generating or saving image for prompt 'An evocative oil painting scene showing the protagonist walking slowly through a dim, abstract space. Their body appears heavy and burdened, with visible dark, wet imprints left by their footsteps on the floor. The world around them tilts slightly, creating a subtle sense of imbalance and disorientation. The protagonist wears vintage academic clothing in muted tones, their face shadowed and weary. The background swirls with muted grays, deep reds, and shadowy blues, with visible brushstrokes conveying emotional weight and heaviness. Soft, diffused lighting with chiaroscuro effects highlights the protagonist's struggle, embodying the fantasy dark academia aesthetic with a surreal, poetic realism.': 400 Client Error: Bad Request for url: https://api.ai.it.cornell.edu/v1/images/generations\n",
      "ERROR:slop_gen.generators.story_gen.images:Failed to generate image for scene 4 with prompt: An evocative oil painting scene showing the protagonist walking slowly through a dim, abstract space. Their body appears heavy and burdened, with visible dark, wet imprints left by their footsteps on the floor. The world around them tilts slightly, creating a subtle sense of imbalance and disorientation. The protagonist wears vintage academic clothing in muted tones, their face shadowed and weary. The background swirls with muted grays, deep reds, and shadowy blues, with visible brushstrokes conveying emotional weight and heaviness. Soft, diffused lighting with chiaroscuro effects highlights the protagonist's struggle, embodying the fantasy dark academia aesthetic with a surreal, poetic realism.\n",
      "INFO:slop_gen.generators.story_gen.images:Processing scene 6/16: Generating image for 'A close, intimate oil painting portrait of the pro...' -> assets/generated_images/scene_5.png\n",
      "INFO:slop_gen.generators.story_gen.images:Generating image for prompt: 'A close, intimate oil painting portrait of the pro...' with size 1024x1536\n",
      "ERROR:slop_gen.generators.story_gen.images:Error generating or saving image for prompt 'A close, intimate oil painting portrait of the protagonist's boyfriend, rendered in the fantasy dark academia style. His eyes are soft but broken, conveying exhaustion and sadness, with subtle shadows under them. His faint smile is fragile, beginning to wear away, with paint-like cracks subtly appearing at the edges. He wears a worn sweater in muted tones, and his hands are visible, fidgeting or reaching out hesitantly. The background is softly blurred with muted grays, deep reds, and shadowy blues, with chiaroscuro lighting creating depth and emotional intensity. Visible brushstrokes add texture and a painterly quality, evoking a timeless, melancholic atmosphere.': 400 Client Error: Bad Request for url: https://api.ai.it.cornell.edu/v1/images/generations\n",
      "ERROR:slop_gen.generators.story_gen.images:Failed to generate image for scene 5 with prompt: A close, intimate oil painting portrait of the protagonist's boyfriend, rendered in the fantasy dark academia style. His eyes are soft but broken, conveying exhaustion and sadness, with subtle shadows under them. His faint smile is fragile, beginning to wear away, with paint-like cracks subtly appearing at the edges. He wears a worn sweater in muted tones, and his hands are visible, fidgeting or reaching out hesitantly. The background is softly blurred with muted grays, deep reds, and shadowy blues, with chiaroscuro lighting creating depth and emotional intensity. Visible brushstrokes add texture and a painterly quality, evoking a timeless, melancholic atmosphere.\n",
      "INFO:slop_gen.generators.story_gen.images:Processing scene 7/16: Generating image for 'A chaotic, painterly oil painting scene depicting ...' -> assets/generated_images/scene_6.png\n",
      "INFO:slop_gen.generators.story_gen.images:Generating image for prompt: 'A chaotic, painterly oil painting scene depicting ...' with size 1024x1536\n",
      "ERROR:slop_gen.generators.story_gen.images:Error generating or saving image for prompt 'A chaotic, painterly oil painting scene depicting a surreal, dark academia world in turmoil. The background is a swirling, shadowy mix of muted grays, deep reds, and shadowy blues, with painterly brushstrokes conveying movement and unrest. Scenes of endless fighting, shooting, looting, and burning are rendered as fragmented, ghostly images blending into one another—silhouettes of figures in conflict, flames licking at buildings, smoke rising in thick clouds. The lighting is dramatic chiaroscuro, with flickering highlights from fires casting eerie glows and deep shadows enveloping the scene. The overall mood is intense, turbulent, and oppressive, capturing the external manifestation of depression in a world engulfed by violence and chaos, consistent with the fantasy dark academia oil painting style.': 400 Client Error: Bad Request for url: https://api.ai.it.cornell.edu/v1/images/generations\n",
      "ERROR:slop_gen.generators.story_gen.images:Failed to generate image for scene 6 with prompt: A chaotic, painterly oil painting scene depicting a surreal, dark academia world in turmoil. The background is a swirling, shadowy mix of muted grays, deep reds, and shadowy blues, with painterly brushstrokes conveying movement and unrest. Scenes of endless fighting, shooting, looting, and burning are rendered as fragmented, ghostly images blending into one another—silhouettes of figures in conflict, flames licking at buildings, smoke rising in thick clouds. The lighting is dramatic chiaroscuro, with flickering highlights from fires casting eerie glows and deep shadows enveloping the scene. The overall mood is intense, turbulent, and oppressive, capturing the external manifestation of depression in a world engulfed by violence and chaos, consistent with the fantasy dark academia oil painting style.\n",
      "INFO:slop_gen.generators.story_gen.images:Processing scene 8/16: Generating image for 'A painterly oil painting scene split into two cont...' -> assets/generated_images/scene_7.png\n",
      "INFO:slop_gen.generators.story_gen.images:Generating image for prompt: 'A painterly oil painting scene split into two cont...' with size 1024x1536\n",
      "ERROR:slop_gen.generators.story_gen.images:Error generating or saving image for prompt 'A painterly oil painting scene split into two contrasting halves, symbolizing the extremes of emotional experience. On one side, a harsh, blazing sun dominates a muted gray sky, its intense light casting long, distorted shadows and bathing the scene in deep reds and fiery oranges, evoking a sensation of burning heat and overwhelming pressure. On the other side, a cold, frost-covered landscape is rendered in shadowy blues and grays, with thick frost coating barren trees and frozen ground, the air heavy and still. The protagonist is subtly present in the middle ground, their figure small and weighed down, blending into the environment. The brushstrokes are rich and textured, with chiaroscuro lighting emphasizing the stark contrast between heat and cold, symbolizing the relentless, shifting nature of depression. The style remains consistent with the fantasy dark academia oil painting aesthetic, evoking a surreal, poetic realism.': 400 Client Error: Bad Request for url: https://api.ai.it.cornell.edu/v1/images/generations\n",
      "ERROR:slop_gen.generators.story_gen.images:Failed to generate image for scene 7 with prompt: A painterly oil painting scene split into two contrasting halves, symbolizing the extremes of emotional experience. On one side, a harsh, blazing sun dominates a muted gray sky, its intense light casting long, distorted shadows and bathing the scene in deep reds and fiery oranges, evoking a sensation of burning heat and overwhelming pressure. On the other side, a cold, frost-covered landscape is rendered in shadowy blues and grays, with thick frost coating barren trees and frozen ground, the air heavy and still. The protagonist is subtly present in the middle ground, their figure small and weighed down, blending into the environment. The brushstrokes are rich and textured, with chiaroscuro lighting emphasizing the stark contrast between heat and cold, symbolizing the relentless, shifting nature of depression. The style remains consistent with the fantasy dark academia oil painting aesthetic, evoking a surreal, poetic realism.\n",
      "INFO:slop_gen.generators.story_gen.images:Processing scene 9/16: Generating image for 'An intimate, poignant oil painting scene focusing ...' -> assets/generated_images/scene_8.png\n",
      "INFO:slop_gen.generators.story_gen.images:Generating image for prompt: 'An intimate, poignant oil painting scene focusing ...' with size 1024x1536\n",
      "ERROR:slop_gen.generators.story_gen.images:Error generating or saving image for prompt 'An intimate, poignant oil painting scene focusing on the protagonist's best friend. She is depicted with fragile features and slightly unkempt hair, wearing floral-patterned clothing that contrasts with the muted, dark academia palette. Her arms bear visible bruises, rendered as deep purples and blues, but artistically transformed into blooming roses, petals unfolding from the wounds in a surreal, symbolic manner. The background is an overgrown, shadowy garden with tangled vines and fallen petals, painted in muted grays, deep reds, and shadowy blues, with soft, diffused chiaroscuro lighting creating a somber, melancholic atmosphere. Visible brushstrokes add texture and emotional depth, capturing the painful beauty and complexity of her suffering within the fantasy dark academia oil painting style.': 400 Client Error: Bad Request for url: https://api.ai.it.cornell.edu/v1/images/generations\n",
      "ERROR:slop_gen.generators.story_gen.images:Failed to generate image for scene 8 with prompt: An intimate, poignant oil painting scene focusing on the protagonist's best friend. She is depicted with fragile features and slightly unkempt hair, wearing floral-patterned clothing that contrasts with the muted, dark academia palette. Her arms bear visible bruises, rendered as deep purples and blues, but artistically transformed into blooming roses, petals unfolding from the wounds in a surreal, symbolic manner. The background is an overgrown, shadowy garden with tangled vines and fallen petals, painted in muted grays, deep reds, and shadowy blues, with soft, diffused chiaroscuro lighting creating a somber, melancholic atmosphere. Visible brushstrokes add texture and emotional depth, capturing the painful beauty and complexity of her suffering within the fantasy dark academia oil painting style.\n",
      "INFO:slop_gen.generators.story_gen.images:Processing scene 10/16: Generating image for 'A painterly oil painting scene depicting the prota...' -> assets/generated_images/scene_9.png\n",
      "INFO:slop_gen.generators.story_gen.images:Generating image for prompt: 'A painterly oil painting scene depicting the prota...' with size 1024x1536\n",
      "ERROR:slop_gen.generators.story_gen.images:Error generating or saving image for prompt 'A painterly oil painting scene depicting the protagonist's father in a dimly lit, shadowy room. The father is middle-aged, his face partially obscured by smoke curling from a cigarette held loosely between his fingers. He wears a wrinkled shirt, and his posture is slumped and dismissive, with a slight shake of his head conveying frustration or resignation. Surrounding him on the bedside table are numerous empty bottles, rendered with textured brushstrokes that catch the soft, diffused chiaroscuro lighting. The background is a muted blend of grays, deep reds, and shadowy blues, creating a somber, oppressive atmosphere consistent with the fantasy dark academia oil painting style. The scene conveys a sense of despair and escape through addiction, blending emotional depth with surreal, poetic realism.': 400 Client Error: Bad Request for url: https://api.ai.it.cornell.edu/v1/images/generations\n",
      "ERROR:slop_gen.generators.story_gen.images:Failed to generate image for scene 9 with prompt: A painterly oil painting scene depicting the protagonist's father in a dimly lit, shadowy room. The father is middle-aged, his face partially obscured by smoke curling from a cigarette held loosely between his fingers. He wears a wrinkled shirt, and his posture is slumped and dismissive, with a slight shake of his head conveying frustration or resignation. Surrounding him on the bedside table are numerous empty bottles, rendered with textured brushstrokes that catch the soft, diffused chiaroscuro lighting. The background is a muted blend of grays, deep reds, and shadowy blues, creating a somber, oppressive atmosphere consistent with the fantasy dark academia oil painting style. The scene conveys a sense of despair and escape through addiction, blending emotional depth with surreal, poetic realism.\n",
      "INFO:slop_gen.generators.story_gen.images:Processing scene 11/16: Generating image for 'An intimate, surreal oil painting scene focusing o...' -> assets/generated_images/scene_10.png\n",
      "INFO:slop_gen.generators.story_gen.images:Generating image for prompt: 'An intimate, surreal oil painting scene focusing o...' with size 1024x1536\n",
      "ERROR:slop_gen.generators.story_gen.images:Error generating or saving image for prompt 'An intimate, surreal oil painting scene focusing on the protagonist alone in a dimly lit, abstract space. The protagonist is depicted with pale skin and dark, tousled hair, wearing vintage academic clothing in muted tones. Their face is shadowed, eyes closed or downcast, conveying deep internal struggle. Around their head and chest, dark, tangled threads or brushstrokes swirl and wrap tightly, symbolizing the crevices of a broken and shattered heart and the words tangled around a numb tongue. The background is a textured blend of muted grays, deep reds, and shadowy blues, with chiaroscuro lighting emphasizing the emotional intensity and isolation. Visible brushstrokes add a tactile, painterly quality, evoking the fantasy dark academia aesthetic and a poetic realism that visualizes internal pain and the desperate desire to express it.': 400 Client Error: Bad Request for url: https://api.ai.it.cornell.edu/v1/images/generations\n",
      "ERROR:slop_gen.generators.story_gen.images:Failed to generate image for scene 10 with prompt: An intimate, surreal oil painting scene focusing on the protagonist alone in a dimly lit, abstract space. The protagonist is depicted with pale skin and dark, tousled hair, wearing vintage academic clothing in muted tones. Their face is shadowed, eyes closed or downcast, conveying deep internal struggle. Around their head and chest, dark, tangled threads or brushstrokes swirl and wrap tightly, symbolizing the crevices of a broken and shattered heart and the words tangled around a numb tongue. The background is a textured blend of muted grays, deep reds, and shadowy blues, with chiaroscuro lighting emphasizing the emotional intensity and isolation. Visible brushstrokes add a tactile, painterly quality, evoking the fantasy dark academia aesthetic and a poetic realism that visualizes internal pain and the desperate desire to express it.\n",
      "INFO:slop_gen.generators.story_gen.images:Processing scene 12/16: Generating image for 'A painterly oil painting scene showing the protago...' -> assets/generated_images/scene_11.png\n",
      "INFO:slop_gen.generators.story_gen.images:Generating image for prompt: 'A painterly oil painting scene showing the protago...' with size 1024x1536\n",
      "ERROR:slop_gen.generators.story_gen.images:Error generating or saving image for prompt 'A painterly oil painting scene showing the protagonist lying in bed, rendered in the fantasy dark academia style. The bed is old and worn, with visible spring coils beneath a thin, faded mattress. The protagonist is bound by chains made of thick, textured paint that wrap around their body and the mattress, symbolizing the feeling of being trapped and immobilized by depression. The room is dimly lit with soft, diffused chiaroscuro lighting, casting deep shadows and muted highlights. The color palette includes muted grays, deep reds, and shadowy blues, with visible brushstrokes creating a rich, tactile texture. The atmosphere is heavy and oppressive, yet intimate, capturing the surreal, poetic realism of emotional captivity within the dark academia oil painting aesthetic.': 400 Client Error: Bad Request for url: https://api.ai.it.cornell.edu/v1/images/generations\n",
      "ERROR:slop_gen.generators.story_gen.images:Failed to generate image for scene 11 with prompt: A painterly oil painting scene showing the protagonist lying in bed, rendered in the fantasy dark academia style. The bed is old and worn, with visible spring coils beneath a thin, faded mattress. The protagonist is bound by chains made of thick, textured paint that wrap around their body and the mattress, symbolizing the feeling of being trapped and immobilized by depression. The room is dimly lit with soft, diffused chiaroscuro lighting, casting deep shadows and muted highlights. The color palette includes muted grays, deep reds, and shadowy blues, with visible brushstrokes creating a rich, tactile texture. The atmosphere is heavy and oppressive, yet intimate, capturing the surreal, poetic realism of emotional captivity within the dark academia oil painting aesthetic.\n",
      "INFO:slop_gen.generators.story_gen.images:Processing scene 13/16: Generating image for 'A painterly oil painting scene set in a dimly lit ...' -> assets/generated_images/scene_12.png\n",
      "INFO:slop_gen.generators.story_gen.images:Generating image for prompt: 'A painterly oil painting scene set in a dimly lit ...' with size 1024x1536\n",
      "ERROR:slop_gen.generators.story_gen.images:Error generating or saving image for prompt 'A painterly oil painting scene set in a dimly lit bathroom with muted grays, deep reds, and shadowy blues, consistent with the fantasy dark academia aesthetic. The protagonist stands before a large, old mirror with a slightly warped, rippling surface that distorts their reflection. The reflection looms larger than life, with subtle surreal ripples like water, emphasizing emotional turmoil. The protagonist's face is pale and shadowed, eyes downcast or filled with quiet despair. The bathroom is textured with visible brushstrokes, featuring worn tiles and a faint fog on the mirror's edges. Soft, diffused chiaroscuro lighting creates deep shadows and highlights, evoking a heavy, introspective mood. The scene captures the haunting confrontation with self, blending poetic realism and surrealism in oil painting style.': 400 Client Error: Bad Request for url: https://api.ai.it.cornell.edu/v1/images/generations\n",
      "ERROR:slop_gen.generators.story_gen.images:Failed to generate image for scene 12 with prompt: A painterly oil painting scene set in a dimly lit bathroom with muted grays, deep reds, and shadowy blues, consistent with the fantasy dark academia aesthetic. The protagonist stands before a large, old mirror with a slightly warped, rippling surface that distorts their reflection. The reflection looms larger than life, with subtle surreal ripples like water, emphasizing emotional turmoil. The protagonist's face is pale and shadowed, eyes downcast or filled with quiet despair. The bathroom is textured with visible brushstrokes, featuring worn tiles and a faint fog on the mirror's edges. Soft, diffused chiaroscuro lighting creates deep shadows and highlights, evoking a heavy, introspective mood. The scene captures the haunting confrontation with self, blending poetic realism and surrealism in oil painting style.\n",
      "INFO:slop_gen.generators.story_gen.images:Processing scene 14/16: Generating image for 'A dramatic, painterly oil painting scene illustrat...' -> assets/generated_images/scene_13.png\n",
      "INFO:slop_gen.generators.story_gen.images:Generating image for prompt: 'A dramatic, painterly oil painting scene illustrat...' with size 1024x1536\n",
      "ERROR:slop_gen.generators.story_gen.images:Error generating or saving image for prompt 'A dramatic, painterly oil painting scene illustrating the sudden eruption of internal turmoil. The background is a swirling chaos of muted grays, deep reds, and shadowy blues, with brushstrokes becoming frantic and dynamic. The protagonist is at the center, their figure fragmented and distorted as if breaking apart, with colors bleeding and blending wildly around them. The lighting is intense chiaroscuro, with sharp contrasts and flickering highlights that suggest emotional upheaval. Visual motifs from previous scenes—like chains, tangled threads, and rippling reflections—intertwine and explode outward. The atmosphere is turbulent and overwhelming, capturing the moment when quiet depression shatters into visible chaos, rendered in the fantasy dark academia oil painting style with rich textures and surreal elements.': 400 Client Error: Bad Request for url: https://api.ai.it.cornell.edu/v1/images/generations\n",
      "ERROR:slop_gen.generators.story_gen.images:Failed to generate image for scene 13 with prompt: A dramatic, painterly oil painting scene illustrating the sudden eruption of internal turmoil. The background is a swirling chaos of muted grays, deep reds, and shadowy blues, with brushstrokes becoming frantic and dynamic. The protagonist is at the center, their figure fragmented and distorted as if breaking apart, with colors bleeding and blending wildly around them. The lighting is intense chiaroscuro, with sharp contrasts and flickering highlights that suggest emotional upheaval. Visual motifs from previous scenes—like chains, tangled threads, and rippling reflections—intertwine and explode outward. The atmosphere is turbulent and overwhelming, capturing the moment when quiet depression shatters into visible chaos, rendered in the fantasy dark academia oil painting style with rich textures and surreal elements.\n",
      "INFO:slop_gen.generators.story_gen.images:Processing scene 15/16: Generating image for 'A continuation of the previous chaotic scene, this...' -> assets/generated_images/scene_14.png\n",
      "INFO:slop_gen.generators.story_gen.images:Generating image for prompt: 'A continuation of the previous chaotic scene, this...' with size 1024x1536\n",
      "ERROR:slop_gen.generators.story_gen.images:Error generating or saving image for prompt 'A continuation of the previous chaotic scene, this painterly oil painting depicts the protagonist amidst a storm of swirling brushstrokes and fragmented imagery. The colors remain muted grays, deep reds, and shadowy blues, but with bursts of brighter hues symbolizing emotional peaks. The protagonist's form is partially obscured by abstract shapes and shadows, conveying confusion and complexity. The background blends elements from earlier scenes—flickering candle flames, broken smiles, and distorted mirrors—melding into a surreal, dreamlike environment. The lighting is soft yet unsettled, with chiaroscuro effects emphasizing depth and emotional conflict. The overall mood is one of escalating complexity and inner struggle, consistent with the fantasy dark academia aesthetic and oil painting style.': 400 Client Error: Bad Request for url: https://api.ai.it.cornell.edu/v1/images/generations\n",
      "ERROR:slop_gen.generators.story_gen.images:Failed to generate image for scene 14 with prompt: A continuation of the previous chaotic scene, this painterly oil painting depicts the protagonist amidst a storm of swirling brushstrokes and fragmented imagery. The colors remain muted grays, deep reds, and shadowy blues, but with bursts of brighter hues symbolizing emotional peaks. The protagonist's form is partially obscured by abstract shapes and shadows, conveying confusion and complexity. The background blends elements from earlier scenes—flickering candle flames, broken smiles, and distorted mirrors—melding into a surreal, dreamlike environment. The lighting is soft yet unsettled, with chiaroscuro effects emphasizing depth and emotional conflict. The overall mood is one of escalating complexity and inner struggle, consistent with the fantasy dark academia aesthetic and oil painting style.\n",
      "INFO:slop_gen.generators.story_gen.images:Processing scene 16/16: Generating image for 'A surreal, painterly oil painting scene embodying ...' -> assets/generated_images/scene_15.png\n",
      "INFO:slop_gen.generators.story_gen.images:Generating image for prompt: 'A surreal, painterly oil painting scene embodying ...' with size 1024x1536\n",
      "ERROR:slop_gen.generators.story_gen.images:Error generating or saving image for prompt 'A surreal, painterly oil painting scene embodying the pervasive and elusive nature of depression. The composition features a dreamlike, scholarly realm with muted grays, deep reds, and shadowy blues swirling around the protagonist, who is partially obscured by abstract, flowing brushstrokes that blend into the environment. The figure appears both present and fading, symbolizing the omnipresence of depression yet its intangible quality. Visual motifs from previous scenes—such as chains, tangled threads, and wilted roses—are subtly integrated into the swirling background. The lighting is soft and diffused with chiaroscuro effects, creating depth and a contemplative, melancholic atmosphere. The style is consistent with the fantasy dark academia oil painting aesthetic, rich in texture and poetic realism.': 400 Client Error: Bad Request for url: https://api.ai.it.cornell.edu/v1/images/generations\n",
      "ERROR:slop_gen.generators.story_gen.images:Failed to generate image for scene 15 with prompt: A surreal, painterly oil painting scene embodying the pervasive and elusive nature of depression. The composition features a dreamlike, scholarly realm with muted grays, deep reds, and shadowy blues swirling around the protagonist, who is partially obscured by abstract, flowing brushstrokes that blend into the environment. The figure appears both present and fading, symbolizing the omnipresence of depression yet its intangible quality. Visual motifs from previous scenes—such as chains, tangled threads, and wilted roses—are subtly integrated into the swirling background. The lighting is soft and diffused with chiaroscuro effects, creating depth and a contemplative, melancholic atmosphere. The style is consistent with the fantasy dark academia oil painting aesthetic, rich in texture and poetic realism.\n",
      "INFO:slop_gen.generators.story_gen.images:Finished image generation. 0 images generated out of 16 scenes.\n"
     ]
    },
    {
     "name": "stdout",
     "output_type": "stream",
     "text": [
      "\n",
      "No images were generated.\n"
     ]
    }
   ],
   "source": [
    "if parameters[\"scene_descriptions\"]:\n",
    "    print(\n",
    "        f\"\\nStarting image generation for {len(parameters['scene_descriptions'])} scenes...\"\n",
    "    )\n",
    "    # Ensure the base output directory exists\n",
    "    if not os.path.exists(BASE_IMAGE_OUTPUT_DIR):\n",
    "        os.makedirs(BASE_IMAGE_OUTPUT_DIR)\n",
    "        print(f\"Created image output directory: {BASE_IMAGE_OUTPUT_DIR}\")\n",
    "\n",
    "    parameters[\"image_paths\"] = generate_images_for_scenes(\n",
    "        scene_descriptions=parameters[\"scene_descriptions\"],\n",
    "        base_output_dir=BASE_IMAGE_OUTPUT_DIR,\n",
    "    )\n",
    "    if parameters[\"image_paths\"]:\n",
    "        print(f\"\\nSuccessfully generated {len(parameters['image_paths'])} images:\")\n",
    "        for path in parameters[\"image_paths\"]:\n",
    "            print(f\"  - {path}\")\n",
    "    else:\n",
    "        print(\"\\nNo images were generated.\")\n",
    "else:\n",
    "    print(\"\\nSkipping image generation as no scene descriptions are available.\")"
   ]
  },
  {
   "cell_type": "markdown",
   "metadata": {},
   "source": [
    "# Audio Generation"
   ]
  },
  {
   "cell_type": "code",
   "execution_count": null,
   "metadata": {},
   "outputs": [],
   "source": []
  },
  {
   "cell_type": "markdown",
   "metadata": {},
   "source": [
    "# Post-processing"
   ]
  },
  {
   "cell_type": "code",
   "execution_count": null,
   "metadata": {},
   "outputs": [],
   "source": []
  }
 ],
 "metadata": {
  "kernelspec": {
   "display_name": "slop_gen",
   "language": "python",
   "name": "python3"
  },
  "language_info": {
   "codemirror_mode": {
    "name": "ipython",
    "version": 3
   },
   "file_extension": ".py",
   "mimetype": "text/x-python",
   "name": "python",
   "nbconvert_exporter": "python",
   "pygments_lexer": "ipython3",
   "version": "3.11.11"
  }
 },
 "nbformat": 4,
 "nbformat_minor": 2
}
