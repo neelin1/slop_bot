{
 "cells": [
  {
   "cell_type": "markdown",
   "metadata": {},
   "source": [
    "# Input"
   ]
  },
  {
   "cell_type": "code",
   "execution_count": null,
   "metadata": {},
   "outputs": [],
   "source": [
    "story = \"\"\"\n",
    "The pupil looked back at the chalkboard, squinting to try and garner any deeper meaning to the neatly written message.\n",
    "\n",
    "Humility\n",
    "\n",
    "The word lay printed in large block letters for the entire classroom to see, the Archmage standing in front of her handiwork as if the meaning could not be more apparent.\n",
    "\n",
    "“Then explain yourself,” the pupil demanded, murmurs of agreement around him. “You speak as if you have just revealed the grand design of the universe but seem more prepared to teach us a childish lesson of nursery rhymes. Humility? We seek power, you of all people should know that.”\n",
    "\n",
    "The Archmage nodded along, the small smile adorning her wrinkled face never breaking.\n",
    "\n",
    "“And how will you wield this power?”\n",
    "\n",
    "The pupil stared back, brow furrowing. This was getting tiresome.\n",
    "\n",
    "“That is what we are here to learn – how to draw power from ourselves.” He clenched his quill, the stem flexing. “To command the elements, to laugh in the face of psychics, to bend the wills of the universe to our desires. What all great mages seek.”\n",
    "\n",
    "“And you think I am here to grant you those answers?”\n",
    "\n",
    "“Oh, enough of your questions!” The pupil’s temper flared, the atmosphere in the room thickening. “Tell us then, how does humility teach us to command power?”\n",
    "\n",
    "The Archmage’s calm demeanor remained unaffected by the outburst. There was always one in each class. She took a step toward the pupil, who shrunk back into their chair.\n",
    "\n",
    "“There are laws of the universe. You yourself have stated as such.” She began. “Laws that have helped life form, helped societies rise and fall. Call them the laws of physics, thermodynamics, whatever you may. Tell me, what happens to a structure, construct or living, if gravity increases just 1 meter per second for half a second?”\n",
    "\n",
    "The pupil lay silent. They were a wizard, not a mathematician.\n",
    "\n",
    "“Total structural collapse.” The Archmage continued. “They were designed according to the laws that this world operates under. Any changes to those lead to constants being converted into variables. And from there, unpredictability.”\n",
    "\n",
    "The pupil looked back, waiting for the Archmage to continue. But she remained silent, the room still as her words sunk around here.\n",
    "\n",
    "“And?” the pupil asked cautiously.\n",
    "\n",
    "The Archmage sighed.\n",
    "\n",
    "“I was hoping the rest should be obvious. When we dabble in magic, we are altering perfect rules, rules that have constructed what we know as existence. That is why humility is the true secret ever apprentice must first master – knowing how and why the rules we are breaking exist and ensuring we do not bring an end to the fabric of existence as we know it.”\n",
    "\n",
    "The class stared back at the old woman. Each and everyone in the room was there to seek power. But how simple would it be for them to cast their egos aside in pursuit of this mastery?\n",
    "\n",
    "Could humility truly be taught, or was it something that had to be broken into a soul, like a wild beast learning how to please its master?\n",
    "\n",
    "The Archmage had been over this lesson time and time again with newer and younger cohorts, and even she was unsure of that answer.\n",
    "\"\"\""
   ]
  },
  {
   "cell_type": "markdown",
   "metadata": {},
   "source": [
    "# Generate Audio"
   ]
  },
  {
   "cell_type": "code",
   "execution_count": null,
   "metadata": {},
   "outputs": [],
   "source": []
  },
  {
   "cell_type": "markdown",
   "metadata": {},
   "source": [
    "# Parse Text"
   ]
  },
  {
   "cell_type": "code",
   "execution_count": null,
   "metadata": {},
   "outputs": [],
   "source": []
  },
  {
   "cell_type": "markdown",
   "metadata": {},
   "source": [
    "# Generate Images"
   ]
  },
  {
   "cell_type": "code",
   "execution_count": null,
   "metadata": {},
   "outputs": [],
   "source": []
  },
  {
   "cell_type": "markdown",
   "metadata": {},
   "source": [
    "# Combine Video"
   ]
  },
  {
   "cell_type": "code",
   "execution_count": null,
   "metadata": {},
   "outputs": [],
   "source": []
  }
 ],
 "metadata": {
  "kernelspec": {
   "display_name": "Python 3",
   "language": "python",
   "name": "python3"
  },
  "language_info": {
   "name": "python",
   "version": "3.10.16"
  }
 },
 "nbformat": 4,
 "nbformat_minor": 2
}
